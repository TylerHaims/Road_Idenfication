{
  "nbformat": 4,
  "nbformat_minor": 0,
  "metadata": {
    "colab": {
      "provenance": [],
      "gpuType": "A100",
      "machine_shape": "hm"
    },
    "kernelspec": {
      "name": "python3",
      "display_name": "Python 3"
    },
    "language_info": {
      "name": "python"
    },
    "accelerator": "GPU",
    "widgets": {
      "application/vnd.jupyter.widget-state+json": {
        "55839c0d8f0b4c12a264546ba68463a1": {
          "model_module": "@jupyter-widgets/controls",
          "model_name": "HBoxModel",
          "model_module_version": "1.5.0",
          "state": {
            "_dom_classes": [],
            "_model_module": "@jupyter-widgets/controls",
            "_model_module_version": "1.5.0",
            "_model_name": "HBoxModel",
            "_view_count": null,
            "_view_module": "@jupyter-widgets/controls",
            "_view_module_version": "1.5.0",
            "_view_name": "HBoxView",
            "box_style": "",
            "children": [
              "IPY_MODEL_34cf2637097d4220b3b9a5b06686d4c3",
              "IPY_MODEL_6bd8b4dafdcc46dcb77caa478f950deb",
              "IPY_MODEL_4c87c74f80ae4de0bd663a17d79b8736"
            ],
            "layout": "IPY_MODEL_75f8612f035f493b86e53b6ba913a44c"
          }
        },
        "34cf2637097d4220b3b9a5b06686d4c3": {
          "model_module": "@jupyter-widgets/controls",
          "model_name": "HTMLModel",
          "model_module_version": "1.5.0",
          "state": {
            "_dom_classes": [],
            "_model_module": "@jupyter-widgets/controls",
            "_model_module_version": "1.5.0",
            "_model_name": "HTMLModel",
            "_view_count": null,
            "_view_module": "@jupyter-widgets/controls",
            "_view_module_version": "1.5.0",
            "_view_name": "HTMLView",
            "description": "",
            "description_tooltip": null,
            "layout": "IPY_MODEL_716c108d05924a2c82f6193cb9b17453",
            "placeholder": "​",
            "style": "IPY_MODEL_0184fd067a71472588fcea9d9844d548",
            "value": "ade20k-id2label.json: 100%"
          }
        },
        "6bd8b4dafdcc46dcb77caa478f950deb": {
          "model_module": "@jupyter-widgets/controls",
          "model_name": "FloatProgressModel",
          "model_module_version": "1.5.0",
          "state": {
            "_dom_classes": [],
            "_model_module": "@jupyter-widgets/controls",
            "_model_module_version": "1.5.0",
            "_model_name": "FloatProgressModel",
            "_view_count": null,
            "_view_module": "@jupyter-widgets/controls",
            "_view_module_version": "1.5.0",
            "_view_name": "ProgressView",
            "bar_style": "success",
            "description": "",
            "description_tooltip": null,
            "layout": "IPY_MODEL_416c96e859304ae98e7cd3984e5f5f98",
            "max": 2814,
            "min": 0,
            "orientation": "horizontal",
            "style": "IPY_MODEL_df13698adb5a4f9eb2d0a71931bfdad0",
            "value": 2814
          }
        },
        "4c87c74f80ae4de0bd663a17d79b8736": {
          "model_module": "@jupyter-widgets/controls",
          "model_name": "HTMLModel",
          "model_module_version": "1.5.0",
          "state": {
            "_dom_classes": [],
            "_model_module": "@jupyter-widgets/controls",
            "_model_module_version": "1.5.0",
            "_model_name": "HTMLModel",
            "_view_count": null,
            "_view_module": "@jupyter-widgets/controls",
            "_view_module_version": "1.5.0",
            "_view_name": "HTMLView",
            "description": "",
            "description_tooltip": null,
            "layout": "IPY_MODEL_cf64bf360ed94df0ad1968ed640c8ba4",
            "placeholder": "​",
            "style": "IPY_MODEL_0f148405191745979fcef198ff3fad79",
            "value": " 2.81k/2.81k [00:00&lt;00:00, 253kB/s]"
          }
        },
        "75f8612f035f493b86e53b6ba913a44c": {
          "model_module": "@jupyter-widgets/base",
          "model_name": "LayoutModel",
          "model_module_version": "1.2.0",
          "state": {
            "_model_module": "@jupyter-widgets/base",
            "_model_module_version": "1.2.0",
            "_model_name": "LayoutModel",
            "_view_count": null,
            "_view_module": "@jupyter-widgets/base",
            "_view_module_version": "1.2.0",
            "_view_name": "LayoutView",
            "align_content": null,
            "align_items": null,
            "align_self": null,
            "border": null,
            "bottom": null,
            "display": null,
            "flex": null,
            "flex_flow": null,
            "grid_area": null,
            "grid_auto_columns": null,
            "grid_auto_flow": null,
            "grid_auto_rows": null,
            "grid_column": null,
            "grid_gap": null,
            "grid_row": null,
            "grid_template_areas": null,
            "grid_template_columns": null,
            "grid_template_rows": null,
            "height": null,
            "justify_content": null,
            "justify_items": null,
            "left": null,
            "margin": null,
            "max_height": null,
            "max_width": null,
            "min_height": null,
            "min_width": null,
            "object_fit": null,
            "object_position": null,
            "order": null,
            "overflow": null,
            "overflow_x": null,
            "overflow_y": null,
            "padding": null,
            "right": null,
            "top": null,
            "visibility": null,
            "width": null
          }
        },
        "716c108d05924a2c82f6193cb9b17453": {
          "model_module": "@jupyter-widgets/base",
          "model_name": "LayoutModel",
          "model_module_version": "1.2.0",
          "state": {
            "_model_module": "@jupyter-widgets/base",
            "_model_module_version": "1.2.0",
            "_model_name": "LayoutModel",
            "_view_count": null,
            "_view_module": "@jupyter-widgets/base",
            "_view_module_version": "1.2.0",
            "_view_name": "LayoutView",
            "align_content": null,
            "align_items": null,
            "align_self": null,
            "border": null,
            "bottom": null,
            "display": null,
            "flex": null,
            "flex_flow": null,
            "grid_area": null,
            "grid_auto_columns": null,
            "grid_auto_flow": null,
            "grid_auto_rows": null,
            "grid_column": null,
            "grid_gap": null,
            "grid_row": null,
            "grid_template_areas": null,
            "grid_template_columns": null,
            "grid_template_rows": null,
            "height": null,
            "justify_content": null,
            "justify_items": null,
            "left": null,
            "margin": null,
            "max_height": null,
            "max_width": null,
            "min_height": null,
            "min_width": null,
            "object_fit": null,
            "object_position": null,
            "order": null,
            "overflow": null,
            "overflow_x": null,
            "overflow_y": null,
            "padding": null,
            "right": null,
            "top": null,
            "visibility": null,
            "width": null
          }
        },
        "0184fd067a71472588fcea9d9844d548": {
          "model_module": "@jupyter-widgets/controls",
          "model_name": "DescriptionStyleModel",
          "model_module_version": "1.5.0",
          "state": {
            "_model_module": "@jupyter-widgets/controls",
            "_model_module_version": "1.5.0",
            "_model_name": "DescriptionStyleModel",
            "_view_count": null,
            "_view_module": "@jupyter-widgets/base",
            "_view_module_version": "1.2.0",
            "_view_name": "StyleView",
            "description_width": ""
          }
        },
        "416c96e859304ae98e7cd3984e5f5f98": {
          "model_module": "@jupyter-widgets/base",
          "model_name": "LayoutModel",
          "model_module_version": "1.2.0",
          "state": {
            "_model_module": "@jupyter-widgets/base",
            "_model_module_version": "1.2.0",
            "_model_name": "LayoutModel",
            "_view_count": null,
            "_view_module": "@jupyter-widgets/base",
            "_view_module_version": "1.2.0",
            "_view_name": "LayoutView",
            "align_content": null,
            "align_items": null,
            "align_self": null,
            "border": null,
            "bottom": null,
            "display": null,
            "flex": null,
            "flex_flow": null,
            "grid_area": null,
            "grid_auto_columns": null,
            "grid_auto_flow": null,
            "grid_auto_rows": null,
            "grid_column": null,
            "grid_gap": null,
            "grid_row": null,
            "grid_template_areas": null,
            "grid_template_columns": null,
            "grid_template_rows": null,
            "height": null,
            "justify_content": null,
            "justify_items": null,
            "left": null,
            "margin": null,
            "max_height": null,
            "max_width": null,
            "min_height": null,
            "min_width": null,
            "object_fit": null,
            "object_position": null,
            "order": null,
            "overflow": null,
            "overflow_x": null,
            "overflow_y": null,
            "padding": null,
            "right": null,
            "top": null,
            "visibility": null,
            "width": null
          }
        },
        "df13698adb5a4f9eb2d0a71931bfdad0": {
          "model_module": "@jupyter-widgets/controls",
          "model_name": "ProgressStyleModel",
          "model_module_version": "1.5.0",
          "state": {
            "_model_module": "@jupyter-widgets/controls",
            "_model_module_version": "1.5.0",
            "_model_name": "ProgressStyleModel",
            "_view_count": null,
            "_view_module": "@jupyter-widgets/base",
            "_view_module_version": "1.2.0",
            "_view_name": "StyleView",
            "bar_color": null,
            "description_width": ""
          }
        },
        "cf64bf360ed94df0ad1968ed640c8ba4": {
          "model_module": "@jupyter-widgets/base",
          "model_name": "LayoutModel",
          "model_module_version": "1.2.0",
          "state": {
            "_model_module": "@jupyter-widgets/base",
            "_model_module_version": "1.2.0",
            "_model_name": "LayoutModel",
            "_view_count": null,
            "_view_module": "@jupyter-widgets/base",
            "_view_module_version": "1.2.0",
            "_view_name": "LayoutView",
            "align_content": null,
            "align_items": null,
            "align_self": null,
            "border": null,
            "bottom": null,
            "display": null,
            "flex": null,
            "flex_flow": null,
            "grid_area": null,
            "grid_auto_columns": null,
            "grid_auto_flow": null,
            "grid_auto_rows": null,
            "grid_column": null,
            "grid_gap": null,
            "grid_row": null,
            "grid_template_areas": null,
            "grid_template_columns": null,
            "grid_template_rows": null,
            "height": null,
            "justify_content": null,
            "justify_items": null,
            "left": null,
            "margin": null,
            "max_height": null,
            "max_width": null,
            "min_height": null,
            "min_width": null,
            "object_fit": null,
            "object_position": null,
            "order": null,
            "overflow": null,
            "overflow_x": null,
            "overflow_y": null,
            "padding": null,
            "right": null,
            "top": null,
            "visibility": null,
            "width": null
          }
        },
        "0f148405191745979fcef198ff3fad79": {
          "model_module": "@jupyter-widgets/controls",
          "model_name": "DescriptionStyleModel",
          "model_module_version": "1.5.0",
          "state": {
            "_model_module": "@jupyter-widgets/controls",
            "_model_module_version": "1.5.0",
            "_model_name": "DescriptionStyleModel",
            "_view_count": null,
            "_view_module": "@jupyter-widgets/base",
            "_view_module_version": "1.2.0",
            "_view_name": "StyleView",
            "description_width": ""
          }
        },
        "cdcb18b19d4b4560a7b0aed39143a884": {
          "model_module": "@jupyter-widgets/controls",
          "model_name": "HBoxModel",
          "model_module_version": "1.5.0",
          "state": {
            "_dom_classes": [],
            "_model_module": "@jupyter-widgets/controls",
            "_model_module_version": "1.5.0",
            "_model_name": "HBoxModel",
            "_view_count": null,
            "_view_module": "@jupyter-widgets/controls",
            "_view_module_version": "1.5.0",
            "_view_name": "HBoxView",
            "box_style": "",
            "children": [
              "IPY_MODEL_e100a8bb527649e5a9e2df8d9753e571",
              "IPY_MODEL_5f24005cf23e44f69bbe3b221e77506b",
              "IPY_MODEL_190c7a976e0e4334b22522b60e2742fb"
            ],
            "layout": "IPY_MODEL_dec4722ff0e74bceb5d9b6339637c547"
          }
        },
        "e100a8bb527649e5a9e2df8d9753e571": {
          "model_module": "@jupyter-widgets/controls",
          "model_name": "HTMLModel",
          "model_module_version": "1.5.0",
          "state": {
            "_dom_classes": [],
            "_model_module": "@jupyter-widgets/controls",
            "_model_module_version": "1.5.0",
            "_model_name": "HTMLModel",
            "_view_count": null,
            "_view_module": "@jupyter-widgets/controls",
            "_view_module_version": "1.5.0",
            "_view_name": "HTMLView",
            "description": "",
            "description_tooltip": null,
            "layout": "IPY_MODEL_1a6006adf9234e86ae2811a29d1ce882",
            "placeholder": "​",
            "style": "IPY_MODEL_1a7021166d5f4d38a3d8c39af07fe0d2",
            "value": "config.json: 100%"
          }
        },
        "5f24005cf23e44f69bbe3b221e77506b": {
          "model_module": "@jupyter-widgets/controls",
          "model_name": "FloatProgressModel",
          "model_module_version": "1.5.0",
          "state": {
            "_dom_classes": [],
            "_model_module": "@jupyter-widgets/controls",
            "_model_module_version": "1.5.0",
            "_model_name": "FloatProgressModel",
            "_view_count": null,
            "_view_module": "@jupyter-widgets/controls",
            "_view_module_version": "1.5.0",
            "_view_name": "ProgressView",
            "bar_style": "success",
            "description": "",
            "description_tooltip": null,
            "layout": "IPY_MODEL_7f62198d96a2479d84203da8fbcf3de2",
            "max": 70043,
            "min": 0,
            "orientation": "horizontal",
            "style": "IPY_MODEL_d1c229ae92b34859be947689fb1d8c44",
            "value": 70043
          }
        },
        "190c7a976e0e4334b22522b60e2742fb": {
          "model_module": "@jupyter-widgets/controls",
          "model_name": "HTMLModel",
          "model_module_version": "1.5.0",
          "state": {
            "_dom_classes": [],
            "_model_module": "@jupyter-widgets/controls",
            "_model_module_version": "1.5.0",
            "_model_name": "HTMLModel",
            "_view_count": null,
            "_view_module": "@jupyter-widgets/controls",
            "_view_module_version": "1.5.0",
            "_view_name": "HTMLView",
            "description": "",
            "description_tooltip": null,
            "layout": "IPY_MODEL_bc7a3f8ba4164378ba41623878b4dffb",
            "placeholder": "​",
            "style": "IPY_MODEL_f73e93b7b7874fb09eacd442720cac49",
            "value": " 70.0k/70.0k [00:00&lt;00:00, 5.78MB/s]"
          }
        },
        "dec4722ff0e74bceb5d9b6339637c547": {
          "model_module": "@jupyter-widgets/base",
          "model_name": "LayoutModel",
          "model_module_version": "1.2.0",
          "state": {
            "_model_module": "@jupyter-widgets/base",
            "_model_module_version": "1.2.0",
            "_model_name": "LayoutModel",
            "_view_count": null,
            "_view_module": "@jupyter-widgets/base",
            "_view_module_version": "1.2.0",
            "_view_name": "LayoutView",
            "align_content": null,
            "align_items": null,
            "align_self": null,
            "border": null,
            "bottom": null,
            "display": null,
            "flex": null,
            "flex_flow": null,
            "grid_area": null,
            "grid_auto_columns": null,
            "grid_auto_flow": null,
            "grid_auto_rows": null,
            "grid_column": null,
            "grid_gap": null,
            "grid_row": null,
            "grid_template_areas": null,
            "grid_template_columns": null,
            "grid_template_rows": null,
            "height": null,
            "justify_content": null,
            "justify_items": null,
            "left": null,
            "margin": null,
            "max_height": null,
            "max_width": null,
            "min_height": null,
            "min_width": null,
            "object_fit": null,
            "object_position": null,
            "order": null,
            "overflow": null,
            "overflow_x": null,
            "overflow_y": null,
            "padding": null,
            "right": null,
            "top": null,
            "visibility": null,
            "width": null
          }
        },
        "1a6006adf9234e86ae2811a29d1ce882": {
          "model_module": "@jupyter-widgets/base",
          "model_name": "LayoutModel",
          "model_module_version": "1.2.0",
          "state": {
            "_model_module": "@jupyter-widgets/base",
            "_model_module_version": "1.2.0",
            "_model_name": "LayoutModel",
            "_view_count": null,
            "_view_module": "@jupyter-widgets/base",
            "_view_module_version": "1.2.0",
            "_view_name": "LayoutView",
            "align_content": null,
            "align_items": null,
            "align_self": null,
            "border": null,
            "bottom": null,
            "display": null,
            "flex": null,
            "flex_flow": null,
            "grid_area": null,
            "grid_auto_columns": null,
            "grid_auto_flow": null,
            "grid_auto_rows": null,
            "grid_column": null,
            "grid_gap": null,
            "grid_row": null,
            "grid_template_areas": null,
            "grid_template_columns": null,
            "grid_template_rows": null,
            "height": null,
            "justify_content": null,
            "justify_items": null,
            "left": null,
            "margin": null,
            "max_height": null,
            "max_width": null,
            "min_height": null,
            "min_width": null,
            "object_fit": null,
            "object_position": null,
            "order": null,
            "overflow": null,
            "overflow_x": null,
            "overflow_y": null,
            "padding": null,
            "right": null,
            "top": null,
            "visibility": null,
            "width": null
          }
        },
        "1a7021166d5f4d38a3d8c39af07fe0d2": {
          "model_module": "@jupyter-widgets/controls",
          "model_name": "DescriptionStyleModel",
          "model_module_version": "1.5.0",
          "state": {
            "_model_module": "@jupyter-widgets/controls",
            "_model_module_version": "1.5.0",
            "_model_name": "DescriptionStyleModel",
            "_view_count": null,
            "_view_module": "@jupyter-widgets/base",
            "_view_module_version": "1.2.0",
            "_view_name": "StyleView",
            "description_width": ""
          }
        },
        "7f62198d96a2479d84203da8fbcf3de2": {
          "model_module": "@jupyter-widgets/base",
          "model_name": "LayoutModel",
          "model_module_version": "1.2.0",
          "state": {
            "_model_module": "@jupyter-widgets/base",
            "_model_module_version": "1.2.0",
            "_model_name": "LayoutModel",
            "_view_count": null,
            "_view_module": "@jupyter-widgets/base",
            "_view_module_version": "1.2.0",
            "_view_name": "LayoutView",
            "align_content": null,
            "align_items": null,
            "align_self": null,
            "border": null,
            "bottom": null,
            "display": null,
            "flex": null,
            "flex_flow": null,
            "grid_area": null,
            "grid_auto_columns": null,
            "grid_auto_flow": null,
            "grid_auto_rows": null,
            "grid_column": null,
            "grid_gap": null,
            "grid_row": null,
            "grid_template_areas": null,
            "grid_template_columns": null,
            "grid_template_rows": null,
            "height": null,
            "justify_content": null,
            "justify_items": null,
            "left": null,
            "margin": null,
            "max_height": null,
            "max_width": null,
            "min_height": null,
            "min_width": null,
            "object_fit": null,
            "object_position": null,
            "order": null,
            "overflow": null,
            "overflow_x": null,
            "overflow_y": null,
            "padding": null,
            "right": null,
            "top": null,
            "visibility": null,
            "width": null
          }
        },
        "d1c229ae92b34859be947689fb1d8c44": {
          "model_module": "@jupyter-widgets/controls",
          "model_name": "ProgressStyleModel",
          "model_module_version": "1.5.0",
          "state": {
            "_model_module": "@jupyter-widgets/controls",
            "_model_module_version": "1.5.0",
            "_model_name": "ProgressStyleModel",
            "_view_count": null,
            "_view_module": "@jupyter-widgets/base",
            "_view_module_version": "1.2.0",
            "_view_name": "StyleView",
            "bar_color": null,
            "description_width": ""
          }
        },
        "bc7a3f8ba4164378ba41623878b4dffb": {
          "model_module": "@jupyter-widgets/base",
          "model_name": "LayoutModel",
          "model_module_version": "1.2.0",
          "state": {
            "_model_module": "@jupyter-widgets/base",
            "_model_module_version": "1.2.0",
            "_model_name": "LayoutModel",
            "_view_count": null,
            "_view_module": "@jupyter-widgets/base",
            "_view_module_version": "1.2.0",
            "_view_name": "LayoutView",
            "align_content": null,
            "align_items": null,
            "align_self": null,
            "border": null,
            "bottom": null,
            "display": null,
            "flex": null,
            "flex_flow": null,
            "grid_area": null,
            "grid_auto_columns": null,
            "grid_auto_flow": null,
            "grid_auto_rows": null,
            "grid_column": null,
            "grid_gap": null,
            "grid_row": null,
            "grid_template_areas": null,
            "grid_template_columns": null,
            "grid_template_rows": null,
            "height": null,
            "justify_content": null,
            "justify_items": null,
            "left": null,
            "margin": null,
            "max_height": null,
            "max_width": null,
            "min_height": null,
            "min_width": null,
            "object_fit": null,
            "object_position": null,
            "order": null,
            "overflow": null,
            "overflow_x": null,
            "overflow_y": null,
            "padding": null,
            "right": null,
            "top": null,
            "visibility": null,
            "width": null
          }
        },
        "f73e93b7b7874fb09eacd442720cac49": {
          "model_module": "@jupyter-widgets/controls",
          "model_name": "DescriptionStyleModel",
          "model_module_version": "1.5.0",
          "state": {
            "_model_module": "@jupyter-widgets/controls",
            "_model_module_version": "1.5.0",
            "_model_name": "DescriptionStyleModel",
            "_view_count": null,
            "_view_module": "@jupyter-widgets/base",
            "_view_module_version": "1.2.0",
            "_view_name": "StyleView",
            "description_width": ""
          }
        },
        "027c553018f94d7a8c866cde97fddd00": {
          "model_module": "@jupyter-widgets/controls",
          "model_name": "HBoxModel",
          "model_module_version": "1.5.0",
          "state": {
            "_dom_classes": [],
            "_model_module": "@jupyter-widgets/controls",
            "_model_module_version": "1.5.0",
            "_model_name": "HBoxModel",
            "_view_count": null,
            "_view_module": "@jupyter-widgets/controls",
            "_view_module_version": "1.5.0",
            "_view_name": "HBoxView",
            "box_style": "",
            "children": [
              "IPY_MODEL_30d2a98bff5344849e1329a50649a55c",
              "IPY_MODEL_fe0d6679f85f472194ed7f8acbccb413",
              "IPY_MODEL_02888976d1a34d4280868d4c56e4dce2"
            ],
            "layout": "IPY_MODEL_4fc983b9130c4a5ab85e3e25ac256dd9"
          }
        },
        "30d2a98bff5344849e1329a50649a55c": {
          "model_module": "@jupyter-widgets/controls",
          "model_name": "HTMLModel",
          "model_module_version": "1.5.0",
          "state": {
            "_dom_classes": [],
            "_model_module": "@jupyter-widgets/controls",
            "_model_module_version": "1.5.0",
            "_model_name": "HTMLModel",
            "_view_count": null,
            "_view_module": "@jupyter-widgets/controls",
            "_view_module_version": "1.5.0",
            "_view_name": "HTMLView",
            "description": "",
            "description_tooltip": null,
            "layout": "IPY_MODEL_eb6b60c0268f40b49bc8c7ba4efdd9db",
            "placeholder": "​",
            "style": "IPY_MODEL_db212dbc37494f31afc4783503a8c9c4",
            "value": "pytorch_model.bin: 100%"
          }
        },
        "fe0d6679f85f472194ed7f8acbccb413": {
          "model_module": "@jupyter-widgets/controls",
          "model_name": "FloatProgressModel",
          "model_module_version": "1.5.0",
          "state": {
            "_dom_classes": [],
            "_model_module": "@jupyter-widgets/controls",
            "_model_module_version": "1.5.0",
            "_model_name": "FloatProgressModel",
            "_view_count": null,
            "_view_module": "@jupyter-widgets/controls",
            "_view_module_version": "1.5.0",
            "_view_name": "ProgressView",
            "bar_style": "success",
            "description": "",
            "description_tooltip": null,
            "layout": "IPY_MODEL_948cc1ec597e4a2aab57d0cd336aad48",
            "max": 14380029,
            "min": 0,
            "orientation": "horizontal",
            "style": "IPY_MODEL_da1f8928d82f4742a09e35a9fc53a80d",
            "value": 14380029
          }
        },
        "02888976d1a34d4280868d4c56e4dce2": {
          "model_module": "@jupyter-widgets/controls",
          "model_name": "HTMLModel",
          "model_module_version": "1.5.0",
          "state": {
            "_dom_classes": [],
            "_model_module": "@jupyter-widgets/controls",
            "_model_module_version": "1.5.0",
            "_model_name": "HTMLModel",
            "_view_count": null,
            "_view_module": "@jupyter-widgets/controls",
            "_view_module_version": "1.5.0",
            "_view_name": "HTMLView",
            "description": "",
            "description_tooltip": null,
            "layout": "IPY_MODEL_0fe34a63149545d3869148944f33d824",
            "placeholder": "​",
            "style": "IPY_MODEL_23044fef72cd462fb62d387fa4376bd0",
            "value": " 14.4M/14.4M [00:00&lt;00:00, 133MB/s]"
          }
        },
        "4fc983b9130c4a5ab85e3e25ac256dd9": {
          "model_module": "@jupyter-widgets/base",
          "model_name": "LayoutModel",
          "model_module_version": "1.2.0",
          "state": {
            "_model_module": "@jupyter-widgets/base",
            "_model_module_version": "1.2.0",
            "_model_name": "LayoutModel",
            "_view_count": null,
            "_view_module": "@jupyter-widgets/base",
            "_view_module_version": "1.2.0",
            "_view_name": "LayoutView",
            "align_content": null,
            "align_items": null,
            "align_self": null,
            "border": null,
            "bottom": null,
            "display": null,
            "flex": null,
            "flex_flow": null,
            "grid_area": null,
            "grid_auto_columns": null,
            "grid_auto_flow": null,
            "grid_auto_rows": null,
            "grid_column": null,
            "grid_gap": null,
            "grid_row": null,
            "grid_template_areas": null,
            "grid_template_columns": null,
            "grid_template_rows": null,
            "height": null,
            "justify_content": null,
            "justify_items": null,
            "left": null,
            "margin": null,
            "max_height": null,
            "max_width": null,
            "min_height": null,
            "min_width": null,
            "object_fit": null,
            "object_position": null,
            "order": null,
            "overflow": null,
            "overflow_x": null,
            "overflow_y": null,
            "padding": null,
            "right": null,
            "top": null,
            "visibility": null,
            "width": null
          }
        },
        "eb6b60c0268f40b49bc8c7ba4efdd9db": {
          "model_module": "@jupyter-widgets/base",
          "model_name": "LayoutModel",
          "model_module_version": "1.2.0",
          "state": {
            "_model_module": "@jupyter-widgets/base",
            "_model_module_version": "1.2.0",
            "_model_name": "LayoutModel",
            "_view_count": null,
            "_view_module": "@jupyter-widgets/base",
            "_view_module_version": "1.2.0",
            "_view_name": "LayoutView",
            "align_content": null,
            "align_items": null,
            "align_self": null,
            "border": null,
            "bottom": null,
            "display": null,
            "flex": null,
            "flex_flow": null,
            "grid_area": null,
            "grid_auto_columns": null,
            "grid_auto_flow": null,
            "grid_auto_rows": null,
            "grid_column": null,
            "grid_gap": null,
            "grid_row": null,
            "grid_template_areas": null,
            "grid_template_columns": null,
            "grid_template_rows": null,
            "height": null,
            "justify_content": null,
            "justify_items": null,
            "left": null,
            "margin": null,
            "max_height": null,
            "max_width": null,
            "min_height": null,
            "min_width": null,
            "object_fit": null,
            "object_position": null,
            "order": null,
            "overflow": null,
            "overflow_x": null,
            "overflow_y": null,
            "padding": null,
            "right": null,
            "top": null,
            "visibility": null,
            "width": null
          }
        },
        "db212dbc37494f31afc4783503a8c9c4": {
          "model_module": "@jupyter-widgets/controls",
          "model_name": "DescriptionStyleModel",
          "model_module_version": "1.5.0",
          "state": {
            "_model_module": "@jupyter-widgets/controls",
            "_model_module_version": "1.5.0",
            "_model_name": "DescriptionStyleModel",
            "_view_count": null,
            "_view_module": "@jupyter-widgets/base",
            "_view_module_version": "1.2.0",
            "_view_name": "StyleView",
            "description_width": ""
          }
        },
        "948cc1ec597e4a2aab57d0cd336aad48": {
          "model_module": "@jupyter-widgets/base",
          "model_name": "LayoutModel",
          "model_module_version": "1.2.0",
          "state": {
            "_model_module": "@jupyter-widgets/base",
            "_model_module_version": "1.2.0",
            "_model_name": "LayoutModel",
            "_view_count": null,
            "_view_module": "@jupyter-widgets/base",
            "_view_module_version": "1.2.0",
            "_view_name": "LayoutView",
            "align_content": null,
            "align_items": null,
            "align_self": null,
            "border": null,
            "bottom": null,
            "display": null,
            "flex": null,
            "flex_flow": null,
            "grid_area": null,
            "grid_auto_columns": null,
            "grid_auto_flow": null,
            "grid_auto_rows": null,
            "grid_column": null,
            "grid_gap": null,
            "grid_row": null,
            "grid_template_areas": null,
            "grid_template_columns": null,
            "grid_template_rows": null,
            "height": null,
            "justify_content": null,
            "justify_items": null,
            "left": null,
            "margin": null,
            "max_height": null,
            "max_width": null,
            "min_height": null,
            "min_width": null,
            "object_fit": null,
            "object_position": null,
            "order": null,
            "overflow": null,
            "overflow_x": null,
            "overflow_y": null,
            "padding": null,
            "right": null,
            "top": null,
            "visibility": null,
            "width": null
          }
        },
        "da1f8928d82f4742a09e35a9fc53a80d": {
          "model_module": "@jupyter-widgets/controls",
          "model_name": "ProgressStyleModel",
          "model_module_version": "1.5.0",
          "state": {
            "_model_module": "@jupyter-widgets/controls",
            "_model_module_version": "1.5.0",
            "_model_name": "ProgressStyleModel",
            "_view_count": null,
            "_view_module": "@jupyter-widgets/base",
            "_view_module_version": "1.2.0",
            "_view_name": "StyleView",
            "bar_color": null,
            "description_width": ""
          }
        },
        "0fe34a63149545d3869148944f33d824": {
          "model_module": "@jupyter-widgets/base",
          "model_name": "LayoutModel",
          "model_module_version": "1.2.0",
          "state": {
            "_model_module": "@jupyter-widgets/base",
            "_model_module_version": "1.2.0",
            "_model_name": "LayoutModel",
            "_view_count": null,
            "_view_module": "@jupyter-widgets/base",
            "_view_module_version": "1.2.0",
            "_view_name": "LayoutView",
            "align_content": null,
            "align_items": null,
            "align_self": null,
            "border": null,
            "bottom": null,
            "display": null,
            "flex": null,
            "flex_flow": null,
            "grid_area": null,
            "grid_auto_columns": null,
            "grid_auto_flow": null,
            "grid_auto_rows": null,
            "grid_column": null,
            "grid_gap": null,
            "grid_row": null,
            "grid_template_areas": null,
            "grid_template_columns": null,
            "grid_template_rows": null,
            "height": null,
            "justify_content": null,
            "justify_items": null,
            "left": null,
            "margin": null,
            "max_height": null,
            "max_width": null,
            "min_height": null,
            "min_width": null,
            "object_fit": null,
            "object_position": null,
            "order": null,
            "overflow": null,
            "overflow_x": null,
            "overflow_y": null,
            "padding": null,
            "right": null,
            "top": null,
            "visibility": null,
            "width": null
          }
        },
        "23044fef72cd462fb62d387fa4376bd0": {
          "model_module": "@jupyter-widgets/controls",
          "model_name": "DescriptionStyleModel",
          "model_module_version": "1.5.0",
          "state": {
            "_model_module": "@jupyter-widgets/controls",
            "_model_module_version": "1.5.0",
            "_model_name": "DescriptionStyleModel",
            "_view_count": null,
            "_view_module": "@jupyter-widgets/base",
            "_view_module_version": "1.2.0",
            "_view_name": "StyleView",
            "description_width": ""
          }
        }
      }
    }
  },
  "cells": [
    {
      "cell_type": "code",
      "execution_count": null,
      "metadata": {
        "id": "VfLugkbSqaig"
      },
      "outputs": [],
      "source": [
        "import torch\n",
        "import torch.nn as nn\n",
        "import torch.optim as optim\n",
        "from torch.utils.data import DataLoader, Dataset\n",
        "import numpy as np\n",
        "import matplotlib.pyplot as plt\n",
        "import pandas as pd\n",
        "import cv2\n",
        "from sklearn.model_selection import train_test_split\n",
        "import albumentations as A\n",
        "from tqdm import tqdm\n",
        "import segmentation_models_pytorch as smp\n",
        "from transformers import SegformerForSemanticSegmentation\n",
        "from transformers import SegformerImageProcessor\n",
        "import json\n",
        "from huggingface_hub import hf_hub_download\n",
        "from PIL import Image\n",
        "from torch import nn\n",
        "from sklearn.metrics import accuracy_score\n",
        "from torch.utils.data import TensorDataset, DataLoader\n",
        "import torch.nn as nn\n"
      ]
    },
    {
      "cell_type": "code",
      "source": [
        "!pip install segmentation-models-pytorch\n"
      ],
      "metadata": {
        "colab": {
          "base_uri": "https://localhost:8080/"
        },
        "id": "c7BHZ4hslprB",
        "outputId": "3ee70662-386b-4ebf-8971-dd9950e5fc73"
      },
      "execution_count": null,
      "outputs": [
        {
          "output_type": "stream",
          "name": "stdout",
          "text": [
            "Collecting segmentation-models-pytorch\n",
            "  Downloading segmentation_models_pytorch-0.3.3-py3-none-any.whl (106 kB)\n",
            "\u001b[?25l     \u001b[90m━━━━━━━━━━━━━━━━━━━━━━━━━━━━━━━━━━━━━━━━\u001b[0m \u001b[32m0.0/106.7 kB\u001b[0m \u001b[31m?\u001b[0m eta \u001b[36m-:--:--\u001b[0m\r\u001b[2K     \u001b[90m━━━━━━━━━━━━━━━━━━━━━━━━━━━━━━━━━━━━━━━━\u001b[0m \u001b[32m106.7/106.7 kB\u001b[0m \u001b[31m3.1 MB/s\u001b[0m eta \u001b[36m0:00:00\u001b[0m\n",
            "\u001b[?25hRequirement already satisfied: torchvision>=0.5.0 in /usr/local/lib/python3.10/dist-packages (from segmentation-models-pytorch) (0.17.1+cu121)\n",
            "Collecting pretrainedmodels==0.7.4 (from segmentation-models-pytorch)\n",
            "  Downloading pretrainedmodels-0.7.4.tar.gz (58 kB)\n",
            "\u001b[2K     \u001b[90m━━━━━━━━━━━━━━━━━━━━━━━━━━━━━━━━━━━━━━━━\u001b[0m \u001b[32m58.8/58.8 kB\u001b[0m \u001b[31m9.5 MB/s\u001b[0m eta \u001b[36m0:00:00\u001b[0m\n",
            "\u001b[?25h  Preparing metadata (setup.py) ... \u001b[?25l\u001b[?25hdone\n",
            "Collecting efficientnet-pytorch==0.7.1 (from segmentation-models-pytorch)\n",
            "  Downloading efficientnet_pytorch-0.7.1.tar.gz (21 kB)\n",
            "  Preparing metadata (setup.py) ... \u001b[?25l\u001b[?25hdone\n",
            "Collecting timm==0.9.2 (from segmentation-models-pytorch)\n",
            "  Downloading timm-0.9.2-py3-none-any.whl (2.2 MB)\n",
            "\u001b[2K     \u001b[90m━━━━━━━━━━━━━━━━━━━━━━━━━━━━━━━━━━━━━━━━\u001b[0m \u001b[32m2.2/2.2 MB\u001b[0m \u001b[31m78.9 MB/s\u001b[0m eta \u001b[36m0:00:00\u001b[0m\n",
            "\u001b[?25hRequirement already satisfied: tqdm in /usr/local/lib/python3.10/dist-packages (from segmentation-models-pytorch) (4.66.2)\n",
            "Requirement already satisfied: pillow in /usr/local/lib/python3.10/dist-packages (from segmentation-models-pytorch) (9.4.0)\n",
            "Requirement already satisfied: torch in /usr/local/lib/python3.10/dist-packages (from efficientnet-pytorch==0.7.1->segmentation-models-pytorch) (2.2.1+cu121)\n",
            "Collecting munch (from pretrainedmodels==0.7.4->segmentation-models-pytorch)\n",
            "  Downloading munch-4.0.0-py2.py3-none-any.whl (9.9 kB)\n",
            "Requirement already satisfied: pyyaml in /usr/local/lib/python3.10/dist-packages (from timm==0.9.2->segmentation-models-pytorch) (6.0.1)\n",
            "Requirement already satisfied: huggingface-hub in /usr/local/lib/python3.10/dist-packages (from timm==0.9.2->segmentation-models-pytorch) (0.20.3)\n",
            "Requirement already satisfied: safetensors in /usr/local/lib/python3.10/dist-packages (from timm==0.9.2->segmentation-models-pytorch) (0.4.3)\n",
            "Requirement already satisfied: numpy in /usr/local/lib/python3.10/dist-packages (from torchvision>=0.5.0->segmentation-models-pytorch) (1.25.2)\n",
            "Requirement already satisfied: filelock in /usr/local/lib/python3.10/dist-packages (from torch->efficientnet-pytorch==0.7.1->segmentation-models-pytorch) (3.14.0)\n",
            "Requirement already satisfied: typing-extensions>=4.8.0 in /usr/local/lib/python3.10/dist-packages (from torch->efficientnet-pytorch==0.7.1->segmentation-models-pytorch) (4.11.0)\n",
            "Requirement already satisfied: sympy in /usr/local/lib/python3.10/dist-packages (from torch->efficientnet-pytorch==0.7.1->segmentation-models-pytorch) (1.12)\n",
            "Requirement already satisfied: networkx in /usr/local/lib/python3.10/dist-packages (from torch->efficientnet-pytorch==0.7.1->segmentation-models-pytorch) (3.3)\n",
            "Requirement already satisfied: jinja2 in /usr/local/lib/python3.10/dist-packages (from torch->efficientnet-pytorch==0.7.1->segmentation-models-pytorch) (3.1.3)\n",
            "Requirement already satisfied: fsspec in /usr/local/lib/python3.10/dist-packages (from torch->efficientnet-pytorch==0.7.1->segmentation-models-pytorch) (2023.6.0)\n",
            "Collecting nvidia-cuda-nvrtc-cu12==12.1.105 (from torch->efficientnet-pytorch==0.7.1->segmentation-models-pytorch)\n",
            "  Using cached nvidia_cuda_nvrtc_cu12-12.1.105-py3-none-manylinux1_x86_64.whl (23.7 MB)\n",
            "Collecting nvidia-cuda-runtime-cu12==12.1.105 (from torch->efficientnet-pytorch==0.7.1->segmentation-models-pytorch)\n",
            "  Using cached nvidia_cuda_runtime_cu12-12.1.105-py3-none-manylinux1_x86_64.whl (823 kB)\n",
            "Collecting nvidia-cuda-cupti-cu12==12.1.105 (from torch->efficientnet-pytorch==0.7.1->segmentation-models-pytorch)\n",
            "  Using cached nvidia_cuda_cupti_cu12-12.1.105-py3-none-manylinux1_x86_64.whl (14.1 MB)\n",
            "Collecting nvidia-cudnn-cu12==8.9.2.26 (from torch->efficientnet-pytorch==0.7.1->segmentation-models-pytorch)\n",
            "  Using cached nvidia_cudnn_cu12-8.9.2.26-py3-none-manylinux1_x86_64.whl (731.7 MB)\n",
            "Collecting nvidia-cublas-cu12==12.1.3.1 (from torch->efficientnet-pytorch==0.7.1->segmentation-models-pytorch)\n",
            "  Using cached nvidia_cublas_cu12-12.1.3.1-py3-none-manylinux1_x86_64.whl (410.6 MB)\n",
            "Collecting nvidia-cufft-cu12==11.0.2.54 (from torch->efficientnet-pytorch==0.7.1->segmentation-models-pytorch)\n",
            "  Using cached nvidia_cufft_cu12-11.0.2.54-py3-none-manylinux1_x86_64.whl (121.6 MB)\n",
            "Collecting nvidia-curand-cu12==10.3.2.106 (from torch->efficientnet-pytorch==0.7.1->segmentation-models-pytorch)\n",
            "  Using cached nvidia_curand_cu12-10.3.2.106-py3-none-manylinux1_x86_64.whl (56.5 MB)\n",
            "Collecting nvidia-cusolver-cu12==11.4.5.107 (from torch->efficientnet-pytorch==0.7.1->segmentation-models-pytorch)\n",
            "  Using cached nvidia_cusolver_cu12-11.4.5.107-py3-none-manylinux1_x86_64.whl (124.2 MB)\n",
            "Collecting nvidia-cusparse-cu12==12.1.0.106 (from torch->efficientnet-pytorch==0.7.1->segmentation-models-pytorch)\n",
            "  Using cached nvidia_cusparse_cu12-12.1.0.106-py3-none-manylinux1_x86_64.whl (196.0 MB)\n",
            "Collecting nvidia-nccl-cu12==2.19.3 (from torch->efficientnet-pytorch==0.7.1->segmentation-models-pytorch)\n",
            "  Using cached nvidia_nccl_cu12-2.19.3-py3-none-manylinux1_x86_64.whl (166.0 MB)\n",
            "Collecting nvidia-nvtx-cu12==12.1.105 (from torch->efficientnet-pytorch==0.7.1->segmentation-models-pytorch)\n",
            "  Using cached nvidia_nvtx_cu12-12.1.105-py3-none-manylinux1_x86_64.whl (99 kB)\n",
            "Requirement already satisfied: triton==2.2.0 in /usr/local/lib/python3.10/dist-packages (from torch->efficientnet-pytorch==0.7.1->segmentation-models-pytorch) (2.2.0)\n",
            "Collecting nvidia-nvjitlink-cu12 (from nvidia-cusolver-cu12==11.4.5.107->torch->efficientnet-pytorch==0.7.1->segmentation-models-pytorch)\n",
            "  Using cached nvidia_nvjitlink_cu12-12.4.127-py3-none-manylinux2014_x86_64.whl (21.1 MB)\n",
            "Requirement already satisfied: requests in /usr/local/lib/python3.10/dist-packages (from huggingface-hub->timm==0.9.2->segmentation-models-pytorch) (2.31.0)\n",
            "Requirement already satisfied: packaging>=20.9 in /usr/local/lib/python3.10/dist-packages (from huggingface-hub->timm==0.9.2->segmentation-models-pytorch) (24.0)\n",
            "Requirement already satisfied: MarkupSafe>=2.0 in /usr/local/lib/python3.10/dist-packages (from jinja2->torch->efficientnet-pytorch==0.7.1->segmentation-models-pytorch) (2.1.5)\n",
            "Requirement already satisfied: charset-normalizer<4,>=2 in /usr/local/lib/python3.10/dist-packages (from requests->huggingface-hub->timm==0.9.2->segmentation-models-pytorch) (3.3.2)\n",
            "Requirement already satisfied: idna<4,>=2.5 in /usr/local/lib/python3.10/dist-packages (from requests->huggingface-hub->timm==0.9.2->segmentation-models-pytorch) (3.7)\n",
            "Requirement already satisfied: urllib3<3,>=1.21.1 in /usr/local/lib/python3.10/dist-packages (from requests->huggingface-hub->timm==0.9.2->segmentation-models-pytorch) (2.0.7)\n",
            "Requirement already satisfied: certifi>=2017.4.17 in /usr/local/lib/python3.10/dist-packages (from requests->huggingface-hub->timm==0.9.2->segmentation-models-pytorch) (2024.2.2)\n",
            "Requirement already satisfied: mpmath>=0.19 in /usr/local/lib/python3.10/dist-packages (from sympy->torch->efficientnet-pytorch==0.7.1->segmentation-models-pytorch) (1.3.0)\n",
            "Building wheels for collected packages: efficientnet-pytorch, pretrainedmodels\n",
            "  Building wheel for efficientnet-pytorch (setup.py) ... \u001b[?25l\u001b[?25hdone\n",
            "  Created wheel for efficientnet-pytorch: filename=efficientnet_pytorch-0.7.1-py3-none-any.whl size=16429 sha256=5c79565170626fdb35d2d2e881950f55ca0deb2000c8f8a54bd173c2b604ef23\n",
            "  Stored in directory: /root/.cache/pip/wheels/03/3f/e9/911b1bc46869644912bda90a56bcf7b960f20b5187feea3baf\n",
            "  Building wheel for pretrainedmodels (setup.py) ... \u001b[?25l\u001b[?25hdone\n",
            "  Created wheel for pretrainedmodels: filename=pretrainedmodels-0.7.4-py3-none-any.whl size=60945 sha256=2ac9168a712efa4f8c29e70c1dde84b84f635e58e6b9d3d7b6679e34e7067182\n",
            "  Stored in directory: /root/.cache/pip/wheels/35/cb/a5/8f534c60142835bfc889f9a482e4a67e0b817032d9c6883b64\n",
            "Successfully built efficientnet-pytorch pretrainedmodels\n",
            "Installing collected packages: nvidia-nvtx-cu12, nvidia-nvjitlink-cu12, nvidia-nccl-cu12, nvidia-curand-cu12, nvidia-cufft-cu12, nvidia-cuda-runtime-cu12, nvidia-cuda-nvrtc-cu12, nvidia-cuda-cupti-cu12, nvidia-cublas-cu12, munch, nvidia-cusparse-cu12, nvidia-cudnn-cu12, nvidia-cusolver-cu12, efficientnet-pytorch, timm, pretrainedmodels, segmentation-models-pytorch\n",
            "Successfully installed efficientnet-pytorch-0.7.1 munch-4.0.0 nvidia-cublas-cu12-12.1.3.1 nvidia-cuda-cupti-cu12-12.1.105 nvidia-cuda-nvrtc-cu12-12.1.105 nvidia-cuda-runtime-cu12-12.1.105 nvidia-cudnn-cu12-8.9.2.26 nvidia-cufft-cu12-11.0.2.54 nvidia-curand-cu12-10.3.2.106 nvidia-cusolver-cu12-11.4.5.107 nvidia-cusparse-cu12-12.1.0.106 nvidia-nccl-cu12-2.19.3 nvidia-nvjitlink-cu12-12.4.127 nvidia-nvtx-cu12-12.1.105 pretrainedmodels-0.7.4 segmentation-models-pytorch-0.3.3 timm-0.9.2\n"
          ]
        }
      ]
    },
    {
      "cell_type": "code",
      "source": [
        "if torch.cuda.is_available():\n",
        "    print(\"GPU is available!\")\n",
        "    print(\"GPU Name:\", torch.cuda.get_device_name(0))\n",
        "else:\n",
        "    print(\"GPU is not available.\")\n",
        "device = torch.device(\"cuda:0\" if torch.cuda.is_available() else \"cpu\")"
      ],
      "metadata": {
        "colab": {
          "base_uri": "https://localhost:8080/"
        },
        "id": "gqyWIDICmT_V",
        "outputId": "04171486-bb3f-4e1e-da73-a62ab533857e"
      },
      "execution_count": null,
      "outputs": [
        {
          "output_type": "stream",
          "name": "stdout",
          "text": [
            "GPU is available!\n",
            "GPU Name: NVIDIA A100-SXM4-40GB\n"
          ]
        }
      ]
    },
    {
      "cell_type": "code",
      "source": [
        "metadata = pd.read_csv('/content/drive/MyDrive/Road_ID_images/metadata.csv')\n",
        "metadata.head()"
      ],
      "metadata": {
        "colab": {
          "base_uri": "https://localhost:8080/",
          "height": 206
        },
        "id": "pxvlB8gTme_o",
        "outputId": "13dc3e3c-26e4-463b-e60c-621c3a45856f"
      },
      "execution_count": null,
      "outputs": [
        {
          "output_type": "execute_result",
          "data": {
            "text/plain": [
              "   image_id  split        sat_image_path              mask_path\n",
              "0    100034  train  train/100034_sat.jpg  train/100034_mask.png\n",
              "1    100081  train  train/100081_sat.jpg  train/100081_mask.png\n",
              "2    100129  train  train/100129_sat.jpg  train/100129_mask.png\n",
              "3    100703  train  train/100703_sat.jpg  train/100703_mask.png\n",
              "4    100712  train  train/100712_sat.jpg  train/100712_mask.png"
            ],
            "text/html": [
              "\n",
              "  <div id=\"df-b0d87ce6-c6cb-4a85-aee6-e8e3ab1737f0\" class=\"colab-df-container\">\n",
              "    <div>\n",
              "<style scoped>\n",
              "    .dataframe tbody tr th:only-of-type {\n",
              "        vertical-align: middle;\n",
              "    }\n",
              "\n",
              "    .dataframe tbody tr th {\n",
              "        vertical-align: top;\n",
              "    }\n",
              "\n",
              "    .dataframe thead th {\n",
              "        text-align: right;\n",
              "    }\n",
              "</style>\n",
              "<table border=\"1\" class=\"dataframe\">\n",
              "  <thead>\n",
              "    <tr style=\"text-align: right;\">\n",
              "      <th></th>\n",
              "      <th>image_id</th>\n",
              "      <th>split</th>\n",
              "      <th>sat_image_path</th>\n",
              "      <th>mask_path</th>\n",
              "    </tr>\n",
              "  </thead>\n",
              "  <tbody>\n",
              "    <tr>\n",
              "      <th>0</th>\n",
              "      <td>100034</td>\n",
              "      <td>train</td>\n",
              "      <td>train/100034_sat.jpg</td>\n",
              "      <td>train/100034_mask.png</td>\n",
              "    </tr>\n",
              "    <tr>\n",
              "      <th>1</th>\n",
              "      <td>100081</td>\n",
              "      <td>train</td>\n",
              "      <td>train/100081_sat.jpg</td>\n",
              "      <td>train/100081_mask.png</td>\n",
              "    </tr>\n",
              "    <tr>\n",
              "      <th>2</th>\n",
              "      <td>100129</td>\n",
              "      <td>train</td>\n",
              "      <td>train/100129_sat.jpg</td>\n",
              "      <td>train/100129_mask.png</td>\n",
              "    </tr>\n",
              "    <tr>\n",
              "      <th>3</th>\n",
              "      <td>100703</td>\n",
              "      <td>train</td>\n",
              "      <td>train/100703_sat.jpg</td>\n",
              "      <td>train/100703_mask.png</td>\n",
              "    </tr>\n",
              "    <tr>\n",
              "      <th>4</th>\n",
              "      <td>100712</td>\n",
              "      <td>train</td>\n",
              "      <td>train/100712_sat.jpg</td>\n",
              "      <td>train/100712_mask.png</td>\n",
              "    </tr>\n",
              "  </tbody>\n",
              "</table>\n",
              "</div>\n",
              "    <div class=\"colab-df-buttons\">\n",
              "\n",
              "  <div class=\"colab-df-container\">\n",
              "    <button class=\"colab-df-convert\" onclick=\"convertToInteractive('df-b0d87ce6-c6cb-4a85-aee6-e8e3ab1737f0')\"\n",
              "            title=\"Convert this dataframe to an interactive table.\"\n",
              "            style=\"display:none;\">\n",
              "\n",
              "  <svg xmlns=\"http://www.w3.org/2000/svg\" height=\"24px\" viewBox=\"0 -960 960 960\">\n",
              "    <path d=\"M120-120v-720h720v720H120Zm60-500h600v-160H180v160Zm220 220h160v-160H400v160Zm0 220h160v-160H400v160ZM180-400h160v-160H180v160Zm440 0h160v-160H620v160ZM180-180h160v-160H180v160Zm440 0h160v-160H620v160Z\"/>\n",
              "  </svg>\n",
              "    </button>\n",
              "\n",
              "  <style>\n",
              "    .colab-df-container {\n",
              "      display:flex;\n",
              "      gap: 12px;\n",
              "    }\n",
              "\n",
              "    .colab-df-convert {\n",
              "      background-color: #E8F0FE;\n",
              "      border: none;\n",
              "      border-radius: 50%;\n",
              "      cursor: pointer;\n",
              "      display: none;\n",
              "      fill: #1967D2;\n",
              "      height: 32px;\n",
              "      padding: 0 0 0 0;\n",
              "      width: 32px;\n",
              "    }\n",
              "\n",
              "    .colab-df-convert:hover {\n",
              "      background-color: #E2EBFA;\n",
              "      box-shadow: 0px 1px 2px rgba(60, 64, 67, 0.3), 0px 1px 3px 1px rgba(60, 64, 67, 0.15);\n",
              "      fill: #174EA6;\n",
              "    }\n",
              "\n",
              "    .colab-df-buttons div {\n",
              "      margin-bottom: 4px;\n",
              "    }\n",
              "\n",
              "    [theme=dark] .colab-df-convert {\n",
              "      background-color: #3B4455;\n",
              "      fill: #D2E3FC;\n",
              "    }\n",
              "\n",
              "    [theme=dark] .colab-df-convert:hover {\n",
              "      background-color: #434B5C;\n",
              "      box-shadow: 0px 1px 3px 1px rgba(0, 0, 0, 0.15);\n",
              "      filter: drop-shadow(0px 1px 2px rgba(0, 0, 0, 0.3));\n",
              "      fill: #FFFFFF;\n",
              "    }\n",
              "  </style>\n",
              "\n",
              "    <script>\n",
              "      const buttonEl =\n",
              "        document.querySelector('#df-b0d87ce6-c6cb-4a85-aee6-e8e3ab1737f0 button.colab-df-convert');\n",
              "      buttonEl.style.display =\n",
              "        google.colab.kernel.accessAllowed ? 'block' : 'none';\n",
              "\n",
              "      async function convertToInteractive(key) {\n",
              "        const element = document.querySelector('#df-b0d87ce6-c6cb-4a85-aee6-e8e3ab1737f0');\n",
              "        const dataTable =\n",
              "          await google.colab.kernel.invokeFunction('convertToInteractive',\n",
              "                                                    [key], {});\n",
              "        if (!dataTable) return;\n",
              "\n",
              "        const docLinkHtml = 'Like what you see? Visit the ' +\n",
              "          '<a target=\"_blank\" href=https://colab.research.google.com/notebooks/data_table.ipynb>data table notebook</a>'\n",
              "          + ' to learn more about interactive tables.';\n",
              "        element.innerHTML = '';\n",
              "        dataTable['output_type'] = 'display_data';\n",
              "        await google.colab.output.renderOutput(dataTable, element);\n",
              "        const docLink = document.createElement('div');\n",
              "        docLink.innerHTML = docLinkHtml;\n",
              "        element.appendChild(docLink);\n",
              "      }\n",
              "    </script>\n",
              "  </div>\n",
              "\n",
              "\n",
              "<div id=\"df-50e130ce-d723-401c-a0c1-71b42df1e1da\">\n",
              "  <button class=\"colab-df-quickchart\" onclick=\"quickchart('df-50e130ce-d723-401c-a0c1-71b42df1e1da')\"\n",
              "            title=\"Suggest charts\"\n",
              "            style=\"display:none;\">\n",
              "\n",
              "<svg xmlns=\"http://www.w3.org/2000/svg\" height=\"24px\"viewBox=\"0 0 24 24\"\n",
              "     width=\"24px\">\n",
              "    <g>\n",
              "        <path d=\"M19 3H5c-1.1 0-2 .9-2 2v14c0 1.1.9 2 2 2h14c1.1 0 2-.9 2-2V5c0-1.1-.9-2-2-2zM9 17H7v-7h2v7zm4 0h-2V7h2v10zm4 0h-2v-4h2v4z\"/>\n",
              "    </g>\n",
              "</svg>\n",
              "  </button>\n",
              "\n",
              "<style>\n",
              "  .colab-df-quickchart {\n",
              "      --bg-color: #E8F0FE;\n",
              "      --fill-color: #1967D2;\n",
              "      --hover-bg-color: #E2EBFA;\n",
              "      --hover-fill-color: #174EA6;\n",
              "      --disabled-fill-color: #AAA;\n",
              "      --disabled-bg-color: #DDD;\n",
              "  }\n",
              "\n",
              "  [theme=dark] .colab-df-quickchart {\n",
              "      --bg-color: #3B4455;\n",
              "      --fill-color: #D2E3FC;\n",
              "      --hover-bg-color: #434B5C;\n",
              "      --hover-fill-color: #FFFFFF;\n",
              "      --disabled-bg-color: #3B4455;\n",
              "      --disabled-fill-color: #666;\n",
              "  }\n",
              "\n",
              "  .colab-df-quickchart {\n",
              "    background-color: var(--bg-color);\n",
              "    border: none;\n",
              "    border-radius: 50%;\n",
              "    cursor: pointer;\n",
              "    display: none;\n",
              "    fill: var(--fill-color);\n",
              "    height: 32px;\n",
              "    padding: 0;\n",
              "    width: 32px;\n",
              "  }\n",
              "\n",
              "  .colab-df-quickchart:hover {\n",
              "    background-color: var(--hover-bg-color);\n",
              "    box-shadow: 0 1px 2px rgba(60, 64, 67, 0.3), 0 1px 3px 1px rgba(60, 64, 67, 0.15);\n",
              "    fill: var(--button-hover-fill-color);\n",
              "  }\n",
              "\n",
              "  .colab-df-quickchart-complete:disabled,\n",
              "  .colab-df-quickchart-complete:disabled:hover {\n",
              "    background-color: var(--disabled-bg-color);\n",
              "    fill: var(--disabled-fill-color);\n",
              "    box-shadow: none;\n",
              "  }\n",
              "\n",
              "  .colab-df-spinner {\n",
              "    border: 2px solid var(--fill-color);\n",
              "    border-color: transparent;\n",
              "    border-bottom-color: var(--fill-color);\n",
              "    animation:\n",
              "      spin 1s steps(1) infinite;\n",
              "  }\n",
              "\n",
              "  @keyframes spin {\n",
              "    0% {\n",
              "      border-color: transparent;\n",
              "      border-bottom-color: var(--fill-color);\n",
              "      border-left-color: var(--fill-color);\n",
              "    }\n",
              "    20% {\n",
              "      border-color: transparent;\n",
              "      border-left-color: var(--fill-color);\n",
              "      border-top-color: var(--fill-color);\n",
              "    }\n",
              "    30% {\n",
              "      border-color: transparent;\n",
              "      border-left-color: var(--fill-color);\n",
              "      border-top-color: var(--fill-color);\n",
              "      border-right-color: var(--fill-color);\n",
              "    }\n",
              "    40% {\n",
              "      border-color: transparent;\n",
              "      border-right-color: var(--fill-color);\n",
              "      border-top-color: var(--fill-color);\n",
              "    }\n",
              "    60% {\n",
              "      border-color: transparent;\n",
              "      border-right-color: var(--fill-color);\n",
              "    }\n",
              "    80% {\n",
              "      border-color: transparent;\n",
              "      border-right-color: var(--fill-color);\n",
              "      border-bottom-color: var(--fill-color);\n",
              "    }\n",
              "    90% {\n",
              "      border-color: transparent;\n",
              "      border-bottom-color: var(--fill-color);\n",
              "    }\n",
              "  }\n",
              "</style>\n",
              "\n",
              "  <script>\n",
              "    async function quickchart(key) {\n",
              "      const quickchartButtonEl =\n",
              "        document.querySelector('#' + key + ' button');\n",
              "      quickchartButtonEl.disabled = true;  // To prevent multiple clicks.\n",
              "      quickchartButtonEl.classList.add('colab-df-spinner');\n",
              "      try {\n",
              "        const charts = await google.colab.kernel.invokeFunction(\n",
              "            'suggestCharts', [key], {});\n",
              "      } catch (error) {\n",
              "        console.error('Error during call to suggestCharts:', error);\n",
              "      }\n",
              "      quickchartButtonEl.classList.remove('colab-df-spinner');\n",
              "      quickchartButtonEl.classList.add('colab-df-quickchart-complete');\n",
              "    }\n",
              "    (() => {\n",
              "      let quickchartButtonEl =\n",
              "        document.querySelector('#df-50e130ce-d723-401c-a0c1-71b42df1e1da button');\n",
              "      quickchartButtonEl.style.display =\n",
              "        google.colab.kernel.accessAllowed ? 'block' : 'none';\n",
              "    })();\n",
              "  </script>\n",
              "</div>\n",
              "    </div>\n",
              "  </div>\n"
            ],
            "application/vnd.google.colaboratory.intrinsic+json": {
              "type": "dataframe",
              "variable_name": "metadata",
              "summary": "{\n  \"name\": \"metadata\",\n  \"rows\": 8570,\n  \"fields\": [\n    {\n      \"column\": \"image_id\",\n      \"properties\": {\n        \"dtype\": \"number\",\n        \"std\": 290099,\n        \"min\": 64,\n        \"max\": 999764,\n        \"num_unique_values\": 8570,\n        \"samples\": [\n          501593,\n          750772,\n          237387\n        ],\n        \"semantic_type\": \"\",\n        \"description\": \"\"\n      }\n    },\n    {\n      \"column\": \"split\",\n      \"properties\": {\n        \"dtype\": \"category\",\n        \"num_unique_values\": 3,\n        \"samples\": [\n          \"train\",\n          \"valid\",\n          \"test\"\n        ],\n        \"semantic_type\": \"\",\n        \"description\": \"\"\n      }\n    },\n    {\n      \"column\": \"sat_image_path\",\n      \"properties\": {\n        \"dtype\": \"string\",\n        \"num_unique_values\": 8570,\n        \"samples\": [\n          \"train/501593_sat.jpg\",\n          \"train/750772_sat.jpg\",\n          \"train/237387_sat.jpg\"\n        ],\n        \"semantic_type\": \"\",\n        \"description\": \"\"\n      }\n    },\n    {\n      \"column\": \"mask_path\",\n      \"properties\": {\n        \"dtype\": \"string\",\n        \"num_unique_values\": 6226,\n        \"samples\": [\n          \"train/137631_mask.png\",\n          \"train/263612_mask.png\",\n          \"train/414512_mask.png\"\n        ],\n        \"semantic_type\": \"\",\n        \"description\": \"\"\n      }\n    }\n  ]\n}"
            }
          },
          "metadata": {},
          "execution_count": 4
        }
      ]
    },
    {
      "cell_type": "code",
      "source": [
        "metadata = metadata[metadata['split']=='train']\n",
        "len(metadata)\n"
      ],
      "metadata": {
        "colab": {
          "base_uri": "https://localhost:8080/"
        },
        "id": "S77qUqXlmhn0",
        "outputId": "7b919de4-f62b-4e5d-e13e-81e98123a261"
      },
      "execution_count": null,
      "outputs": [
        {
          "output_type": "execute_result",
          "data": {
            "text/plain": [
              "6226"
            ]
          },
          "metadata": {},
          "execution_count": 5
        }
      ]
    },
    {
      "cell_type": "code",
      "source": [
        "images = []\n",
        "masks = []\n",
        "for i in tqdm(range(6226)):\n",
        "    path='/content/drive/MyDrive/Road_ID_images/'\n",
        "    # print(metadata['sat_image_path'][i])\n",
        "    image = plt.imread(path+metadata['sat_image_path'][i])\n",
        "\n",
        "    mask = plt.imread(path+metadata['mask_path'][i])\n",
        "\n",
        "\n",
        "    image = cv2.resize(image,(128,128),interpolation=cv2.INTER_CUBIC)\n",
        "    mask = cv2.resize(mask,(128,128),interpolation=cv2.INTER_CUBIC)\n",
        "    # mask = cv2.resize(mask,(128,128))\n",
        "    # image = cv2.resize(image(128,128))\n",
        "    grayimg = mask[:,:,0]*0.2989+mask[:,:,1]*0.5870+mask[:,:,2]*0.1140\n",
        "    images.append(image)\n",
        "    masks.append(grayimg)"
      ],
      "metadata": {
        "colab": {
          "base_uri": "https://localhost:8080/"
        },
        "id": "hFSReG8fnzNf",
        "outputId": "5a39b7aa-9e49-4ecd-b004-2f1723c2c5f0"
      },
      "execution_count": null,
      "outputs": [
        {
          "output_type": "stream",
          "name": "stderr",
          "text": [
            "100%|██████████| 6226/6226 [2:50:32<00:00,  1.64s/it]\n"
          ]
        }
      ]
    },
    {
      "cell_type": "code",
      "source": [
        "def get_augmentations(image_size = 128, crop_prob = 1):\n",
        "    return A.Compose([\n",
        "\n",
        "        A.RandomCrop(width = image_size, height = image_size, p=crop_prob),\n",
        "        A.HorizontalFlip(p=0.5),\n",
        "        A.VerticalFlip(p=0.5),\n",
        "        A.RandomRotate90(p=0.5),\n",
        "        A.RandomBrightnessContrast(p=0.5),\n",
        "        A.RandomGamma(p=0.25),\n",
        "    ],p=1)"
      ],
      "metadata": {
        "id": "ywAF7JigznGb"
      },
      "execution_count": null,
      "outputs": []
    },
    {
      "cell_type": "code",
      "source": [
        "timgs,tmasks = images.copy(),masks.copy()\n",
        "for image,mask in tqdm(zip(images,masks)):\n",
        "    aug = get_augmentations()(image=image,mask=mask)\n",
        "    timgs.append(aug['image'])\n",
        "    tmasks.append(aug['mask'])"
      ],
      "metadata": {
        "colab": {
          "base_uri": "https://localhost:8080/"
        },
        "id": "0R4m1b1wzzbN",
        "outputId": "7b9f7f7a-9574-43cd-d637-103a15e23fcd"
      },
      "execution_count": null,
      "outputs": [
        {
          "output_type": "stream",
          "name": "stderr",
          "text": [
            "6226it [00:01, 3148.52it/s]\n"
          ]
        }
      ]
    },
    {
      "cell_type": "code",
      "source": [
        "X_train,X_test,y_train,y_test = train_test_split(timgs,tmasks,test_size=0.05,random_state=42)"
      ],
      "metadata": {
        "id": "9m2w_JMc0Rdc"
      },
      "execution_count": null,
      "outputs": []
    },
    {
      "cell_type": "code",
      "source": [
        "X_train = np.array(X_train)\n",
        "y_train = np.array(y_train)\n",
        "X_test = np.array(X_test)\n",
        "y_test = np.array(y_test)"
      ],
      "metadata": {
        "id": "DmaVZ1W10Sbb"
      },
      "execution_count": null,
      "outputs": []
    },
    {
      "cell_type": "code",
      "source": [
        "def dice_score(pred, target, epsilon=1e-6):\n",
        "    pred = torch.sigmoid(pred)\n",
        "    pred = (pred > 0.5).float()\n",
        "    intersection = (pred * target).sum(dim=(1, 2, 3))\n",
        "    union = pred.sum(dim=(1, 2, 3)) + target.sum(dim=(1, 2, 3))\n",
        "    dice = (2. * intersection + epsilon) / (union + epsilon)\n",
        "    return dice.mean()\n",
        "\n",
        "def iou_score(pred, target, epsilon=1e-6):\n",
        "    pred = torch.sigmoid(pred)\n",
        "    pred = (pred > 0.5).float()\n",
        "    intersection = (pred * target).sum(dim=(1, 2, 3))\n",
        "    union = pred.sum(dim=(1, 2, 3)) + target.sum(dim=(1, 2, 3)) - intersection\n",
        "    iou = (intersection + epsilon) / (union + epsilon)\n",
        "    return iou.mean()\n",
        "\n",
        "class SatelliteDataset(Dataset):\n",
        "    def __init__(self, images, masks, augmentation=None):\n",
        "        self.images = images\n",
        "        self.masks = masks\n",
        "        self.augmentation = augmentation\n",
        "\n",
        "    def __len__(self):\n",
        "        return len(self.images)\n",
        "\n",
        "    def __getitem__(self, idx):\n",
        "        image = self.images[idx]\n",
        "        mask = self.masks[idx]\n",
        "\n",
        "        if self.augmentation:\n",
        "            augmented = self.augmentation(image=image, mask=mask)\n",
        "            image, mask = augmented['image'], augmented['mask']\n",
        "\n",
        "        # Transform to tensor and add channel dimension to mask\n",
        "        return torch.from_numpy(image.transpose(2, 0, 1)).float(), torch.from_numpy(mask).float().unsqueeze(0)"
      ],
      "metadata": {
        "id": "UrbBLISg0eny"
      },
      "execution_count": null,
      "outputs": []
    },
    {
      "cell_type": "code",
      "source": [
        "train_dataset = SatelliteDataset(X_train, y_train, augmentation=get_augmentations())\n",
        "test_dataset = SatelliteDataset(X_test, y_test)\n",
        "train_loader = DataLoader(train_dataset, batch_size=16, shuffle=True)\n",
        "test_loader = DataLoader(test_dataset, batch_size=16, shuffle=False)\n"
      ],
      "metadata": {
        "id": "H1g8rT2F0lfR"
      },
      "execution_count": null,
      "outputs": []
    },
    {
      "cell_type": "code",
      "source": [
        "import segmentation_models_pytorch as smp\n",
        "road_labels = {\n",
        "  \"0\": \"not_road\",\n",
        "  \"1\": \"road\",\n",
        "}\n",
        "road_label2id = {v: k for k, v in road_labels.items()}\n",
        "\n",
        "\n",
        "# load id2label mapping from a JSON on the hub\n",
        "# think we might need to adjust the num_labels and the id2label situation to fit out specific case\n",
        "repo_id = \"huggingface/label-files\"\n",
        "filename = \"ade20k-id2label.json\"\n",
        "id2label = json.load(open(hf_hub_download(repo_id=repo_id, filename=filename, repo_type=\"dataset\"), \"r\"))\n",
        "id2label = {int(k): v for k, v in id2label.items()}\n",
        "label2id = {v: k for k, v in id2label.items()}\n",
        "\n",
        "\n",
        "model = SegformerForSemanticSegmentation.from_pretrained(\"nvidia/mit-b0\",\n",
        "                                                         num_labels=2,\n",
        "                                                         id2label=road_labels,\n",
        "                                                         label2id=road_label2id,\n",
        ")\n",
        "# Move the model to the configured device\n",
        "model = model.to(device)\n",
        "optimizer = optim.Adam(model.parameters(), lr=0.001)\n",
        "loss_func = smp.losses.SoftBCEWithLogitsLoss()"
      ],
      "metadata": {
        "colab": {
          "base_uri": "https://localhost:8080/",
          "height": 276,
          "referenced_widgets": [
            "55839c0d8f0b4c12a264546ba68463a1",
            "34cf2637097d4220b3b9a5b06686d4c3",
            "6bd8b4dafdcc46dcb77caa478f950deb",
            "4c87c74f80ae4de0bd663a17d79b8736",
            "75f8612f035f493b86e53b6ba913a44c",
            "716c108d05924a2c82f6193cb9b17453",
            "0184fd067a71472588fcea9d9844d548",
            "416c96e859304ae98e7cd3984e5f5f98",
            "df13698adb5a4f9eb2d0a71931bfdad0",
            "cf64bf360ed94df0ad1968ed640c8ba4",
            "0f148405191745979fcef198ff3fad79",
            "cdcb18b19d4b4560a7b0aed39143a884",
            "e100a8bb527649e5a9e2df8d9753e571",
            "5f24005cf23e44f69bbe3b221e77506b",
            "190c7a976e0e4334b22522b60e2742fb",
            "dec4722ff0e74bceb5d9b6339637c547",
            "1a6006adf9234e86ae2811a29d1ce882",
            "1a7021166d5f4d38a3d8c39af07fe0d2",
            "7f62198d96a2479d84203da8fbcf3de2",
            "d1c229ae92b34859be947689fb1d8c44",
            "bc7a3f8ba4164378ba41623878b4dffb",
            "f73e93b7b7874fb09eacd442720cac49",
            "027c553018f94d7a8c866cde97fddd00",
            "30d2a98bff5344849e1329a50649a55c",
            "fe0d6679f85f472194ed7f8acbccb413",
            "02888976d1a34d4280868d4c56e4dce2",
            "4fc983b9130c4a5ab85e3e25ac256dd9",
            "eb6b60c0268f40b49bc8c7ba4efdd9db",
            "db212dbc37494f31afc4783503a8c9c4",
            "948cc1ec597e4a2aab57d0cd336aad48",
            "da1f8928d82f4742a09e35a9fc53a80d",
            "0fe34a63149545d3869148944f33d824",
            "23044fef72cd462fb62d387fa4376bd0"
          ]
        },
        "id": "mGziLUR90y7G",
        "outputId": "83bebdd9-fff6-4751-8da2-26af85e28812"
      },
      "execution_count": null,
      "outputs": [
        {
          "output_type": "stream",
          "name": "stderr",
          "text": [
            "/usr/local/lib/python3.10/dist-packages/huggingface_hub/utils/_token.py:88: UserWarning: \n",
            "The secret `HF_TOKEN` does not exist in your Colab secrets.\n",
            "To authenticate with the Hugging Face Hub, create a token in your settings tab (https://huggingface.co/settings/tokens), set it as secret in your Google Colab and restart your session.\n",
            "You will be able to reuse this secret in all of your notebooks.\n",
            "Please note that authentication is recommended but still optional to access public models or datasets.\n",
            "  warnings.warn(\n"
          ]
        },
        {
          "output_type": "display_data",
          "data": {
            "text/plain": [
              "ade20k-id2label.json:   0%|          | 0.00/2.81k [00:00<?, ?B/s]"
            ],
            "application/vnd.jupyter.widget-view+json": {
              "version_major": 2,
              "version_minor": 0,
              "model_id": "55839c0d8f0b4c12a264546ba68463a1"
            }
          },
          "metadata": {}
        },
        {
          "output_type": "display_data",
          "data": {
            "text/plain": [
              "config.json:   0%|          | 0.00/70.0k [00:00<?, ?B/s]"
            ],
            "application/vnd.jupyter.widget-view+json": {
              "version_major": 2,
              "version_minor": 0,
              "model_id": "cdcb18b19d4b4560a7b0aed39143a884"
            }
          },
          "metadata": {}
        },
        {
          "output_type": "display_data",
          "data": {
            "text/plain": [
              "pytorch_model.bin:   0%|          | 0.00/14.4M [00:00<?, ?B/s]"
            ],
            "application/vnd.jupyter.widget-view+json": {
              "version_major": 2,
              "version_minor": 0,
              "model_id": "027c553018f94d7a8c866cde97fddd00"
            }
          },
          "metadata": {}
        },
        {
          "output_type": "stream",
          "name": "stderr",
          "text": [
            "Some weights of SegformerForSemanticSegmentation were not initialized from the model checkpoint at nvidia/mit-b0 and are newly initialized: ['decode_head.batch_norm.bias', 'decode_head.batch_norm.num_batches_tracked', 'decode_head.batch_norm.running_mean', 'decode_head.batch_norm.running_var', 'decode_head.batch_norm.weight', 'decode_head.classifier.bias', 'decode_head.classifier.weight', 'decode_head.linear_c.0.proj.bias', 'decode_head.linear_c.0.proj.weight', 'decode_head.linear_c.1.proj.bias', 'decode_head.linear_c.1.proj.weight', 'decode_head.linear_c.2.proj.bias', 'decode_head.linear_c.2.proj.weight', 'decode_head.linear_c.3.proj.bias', 'decode_head.linear_c.3.proj.weight', 'decode_head.linear_fuse.weight']\n",
            "You should probably TRAIN this model on a down-stream task to be able to use it for predictions and inference.\n"
          ]
        }
      ]
    },
    {
      "cell_type": "code",
      "source": [
        "train_losses, val_losses, train_dice_scores, val_dice_scores, train_iou_scores, val_iou_scores = [], [], [], [], [], []\n",
        "\n",
        "for epoch in range(25):  # Adjust the number of epochs as necessary\n",
        "    model.train()\n",
        "    total_loss = 0\n",
        "    for images, masks in tqdm(train_loader):\n",
        "        images, masks = images.to(device), masks.to(device)\n",
        "        optimizer.zero_grad()\n",
        "        images = images[:, :, :, :]\n",
        "        masks_new = masks[:, 0, :, :]\n",
        "        masks_long = masks_new.to(torch.long)\n",
        "        final_masks = torch.cat([masks, masks], dim=1)\n",
        "\n",
        "        outputs = model(pixel_values=images, labels=masks_long)\n",
        "        logits = outputs.logits\n",
        "        logits_resized = torch.nn.functional.interpolate(logits, size=(128, 128), mode='bilinear', align_corners=False)\n",
        "        loss = loss_func(logits_resized, final_masks)\n",
        "        loss.backward()\n",
        "        optimizer.step()\n",
        "        total_loss += loss.item()\n",
        "    train_losses.append(total_loss / len(train_loader))\n",
        "    train_dice_scores.append(dice_score(logits_resized, masks).item())\n",
        "    train_iou_scores.append(iou_score(logits_resized, masks).item())\n",
        "\n",
        "    # # Validation phase\n",
        "    # model.eval()\n",
        "    # total_val_loss, val_dice, val_iou = 0, [], []\n",
        "    # with torch.no_grad():\n",
        "    #     for images, masks in tqdm(test_loader):\n",
        "    #         images, masks = images.to(device), masks.to(device)\n",
        "    #         outputs = model(images)\n",
        "    #         val_loss = loss_func(logits_resized, masks)\n",
        "    #         total_val_loss += val_loss.item()\n",
        "    #         val_dice.append(dice_score(outputs, masks).item())\n",
        "    #         val_iou.append(iou_score(outputs, masks).item())\n",
        "    #     val_losses.append(total_val_loss / len(test_loader))\n",
        "    #     val_dice_scores.append(np.mean(val_dice))\n",
        "    #     val_iou_scores.append(np.mean(val_iou))\n",
        "    print(train_losses)\n",
        "    print(train_dice_scores)\n",
        "    print(train_iou_scores)\n",
        "    # print(f'Epoch {epoch}: Train Loss: {train_losses[epoch]}, Val Loss: {val_losses[epoch]}, Train Dice: {train_dice_scores[epoch] if train_dice_scores else 0}')\n",
        "    #, Val Dice: {val_dice_scores[-1] if val_dice_scores else 0}, Train IoU: {train_iou_scores[-1] if train_iou_scores else 0}, Val IoU: {val_iou_scores[-1] if val_iou_scores else 0}')\n"
      ],
      "metadata": {
        "colab": {
          "base_uri": "https://localhost:8080/"
        },
        "id": "xXSjg_oX03-T",
        "outputId": "95d3c0ee-632b-457a-96ae-9945a5e13498"
      },
      "execution_count": null,
      "outputs": [
        {
          "output_type": "stream",
          "name": "stderr",
          "text": [
            "100%|██████████| 740/740 [00:31<00:00, 23.79it/s]\n"
          ]
        },
        {
          "output_type": "stream",
          "name": "stdout",
          "text": [
            "[0.11513811038756692]\n",
            "[0.4277677536010742]\n",
            "[0.3077542781829834]\n"
          ]
        },
        {
          "output_type": "stream",
          "name": "stderr",
          "text": [
            "100%|██████████| 740/740 [00:31<00:00, 23.80it/s]\n"
          ]
        },
        {
          "output_type": "stream",
          "name": "stdout",
          "text": [
            "[0.11513811038756692, 0.11438998969120753]\n",
            "[0.4277677536010742, 0.1441168487071991]\n",
            "[0.3077542781829834, 0.08532200008630753]\n"
          ]
        },
        {
          "output_type": "stream",
          "name": "stderr",
          "text": [
            "100%|██████████| 740/740 [00:31<00:00, 23.28it/s]\n"
          ]
        },
        {
          "output_type": "stream",
          "name": "stdout",
          "text": [
            "[0.11513811038756692, 0.11438998969120753, 0.11311856375856175]\n",
            "[0.4277677536010742, 0.1441168487071991, 0.26868435740470886]\n",
            "[0.3077542781829834, 0.08532200008630753, 0.23096103966236115]\n"
          ]
        },
        {
          "output_type": "stream",
          "name": "stderr",
          "text": [
            "100%|██████████| 740/740 [00:31<00:00, 23.25it/s]\n"
          ]
        },
        {
          "output_type": "stream",
          "name": "stdout",
          "text": [
            "[0.11513811038756692, 0.11438998969120753, 0.11311856375856175, 0.11221243244772022]\n",
            "[0.4277677536010742, 0.1441168487071991, 0.26868435740470886, 0.17745693027973175]\n",
            "[0.3077542781829834, 0.08532200008630753, 0.23096103966236115, 0.10559282451868057]\n"
          ]
        },
        {
          "output_type": "stream",
          "name": "stderr",
          "text": [
            "100%|██████████| 740/740 [00:32<00:00, 23.03it/s]\n"
          ]
        },
        {
          "output_type": "stream",
          "name": "stdout",
          "text": [
            "[0.11513811038756692, 0.11438998969120753, 0.11311856375856175, 0.11221243244772022, 0.1116900834582142]\n",
            "[0.4277677536010742, 0.1441168487071991, 0.26868435740470886, 0.17745693027973175, 0.2689209580421448]\n",
            "[0.3077542781829834, 0.08532200008630753, 0.23096103966236115, 0.10559282451868057, 0.16935212910175323]\n"
          ]
        },
        {
          "output_type": "stream",
          "name": "stderr",
          "text": [
            "100%|██████████| 740/740 [00:31<00:00, 23.22it/s]\n"
          ]
        },
        {
          "output_type": "stream",
          "name": "stdout",
          "text": [
            "[0.11513811038756692, 0.11438998969120753, 0.11311856375856175, 0.11221243244772022, 0.1116900834582142, 0.11104603390637281]\n",
            "[0.4277677536010742, 0.1441168487071991, 0.26868435740470886, 0.17745693027973175, 0.2689209580421448, 0.3807015120983124]\n",
            "[0.3077542781829834, 0.08532200008630753, 0.23096103966236115, 0.10559282451868057, 0.16935212910175323, 0.284656286239624]\n"
          ]
        },
        {
          "output_type": "stream",
          "name": "stderr",
          "text": [
            "100%|██████████| 740/740 [00:31<00:00, 23.22it/s]\n"
          ]
        },
        {
          "output_type": "stream",
          "name": "stdout",
          "text": [
            "[0.11513811038756692, 0.11438998969120753, 0.11311856375856175, 0.11221243244772022, 0.1116900834582142, 0.11104603390637281, 0.110239308800649]\n",
            "[0.4277677536010742, 0.1441168487071991, 0.26868435740470886, 0.17745693027973175, 0.2689209580421448, 0.3807015120983124, 0.5119359493255615]\n",
            "[0.3077542781829834, 0.08532200008630753, 0.23096103966236115, 0.10559282451868057, 0.16935212910175323, 0.284656286239624, 0.38614875078201294]\n"
          ]
        },
        {
          "output_type": "stream",
          "name": "stderr",
          "text": [
            "100%|██████████| 740/740 [00:31<00:00, 23.35it/s]\n"
          ]
        },
        {
          "output_type": "stream",
          "name": "stdout",
          "text": [
            "[0.11513811038756692, 0.11438998969120753, 0.11311856375856175, 0.11221243244772022, 0.1116900834582142, 0.11104603390637281, 0.110239308800649, 0.1095217409971598]\n",
            "[0.4277677536010742, 0.1441168487071991, 0.26868435740470886, 0.17745693027973175, 0.2689209580421448, 0.3807015120983124, 0.5119359493255615, 0.25219041109085083]\n",
            "[0.3077542781829834, 0.08532200008630753, 0.23096103966236115, 0.10559282451868057, 0.16935212910175323, 0.284656286239624, 0.38614875078201294, 0.1558752954006195]\n"
          ]
        },
        {
          "output_type": "stream",
          "name": "stderr",
          "text": [
            "100%|██████████| 740/740 [00:31<00:00, 23.82it/s]\n"
          ]
        },
        {
          "output_type": "stream",
          "name": "stdout",
          "text": [
            "[0.11513811038756692, 0.11438998969120753, 0.11311856375856175, 0.11221243244772022, 0.1116900834582142, 0.11104603390637281, 0.110239308800649, 0.1095217409971598, 0.10970089596167609]\n",
            "[0.4277677536010742, 0.1441168487071991, 0.26868435740470886, 0.17745693027973175, 0.2689209580421448, 0.3807015120983124, 0.5119359493255615, 0.25219041109085083, 0.29334425926208496]\n",
            "[0.3077542781829834, 0.08532200008630753, 0.23096103966236115, 0.10559282451868057, 0.16935212910175323, 0.284656286239624, 0.38614875078201294, 0.1558752954006195, 0.1944887489080429]\n"
          ]
        },
        {
          "output_type": "stream",
          "name": "stderr",
          "text": [
            "100%|██████████| 740/740 [00:30<00:00, 23.88it/s]\n"
          ]
        },
        {
          "output_type": "stream",
          "name": "stdout",
          "text": [
            "[0.11513811038756692, 0.11438998969120753, 0.11311856375856175, 0.11221243244772022, 0.1116900834582142, 0.11104603390637281, 0.110239308800649, 0.1095217409971598, 0.10970089596167609, 0.10895247100474867]\n",
            "[0.4277677536010742, 0.1441168487071991, 0.26868435740470886, 0.17745693027973175, 0.2689209580421448, 0.3807015120983124, 0.5119359493255615, 0.25219041109085083, 0.29334425926208496, 0.5418686270713806]\n",
            "[0.3077542781829834, 0.08532200008630753, 0.23096103966236115, 0.10559282451868057, 0.16935212910175323, 0.284656286239624, 0.38614875078201294, 0.1558752954006195, 0.1944887489080429, 0.38810229301452637]\n"
          ]
        },
        {
          "output_type": "stream",
          "name": "stderr",
          "text": [
            "100%|██████████| 740/740 [00:30<00:00, 23.91it/s]\n"
          ]
        },
        {
          "output_type": "stream",
          "name": "stdout",
          "text": [
            "[0.11513811038756692, 0.11438998969120753, 0.11311856375856175, 0.11221243244772022, 0.1116900834582142, 0.11104603390637281, 0.110239308800649, 0.1095217409971598, 0.10970089596167609, 0.10895247100474867, 0.10836573149505499]\n",
            "[0.4277677536010742, 0.1441168487071991, 0.26868435740470886, 0.17745693027973175, 0.2689209580421448, 0.3807015120983124, 0.5119359493255615, 0.25219041109085083, 0.29334425926208496, 0.5418686270713806, 0.38678795099258423]\n",
            "[0.3077542781829834, 0.08532200008630753, 0.23096103966236115, 0.10559282451868057, 0.16935212910175323, 0.284656286239624, 0.38614875078201294, 0.1558752954006195, 0.1944887489080429, 0.38810229301452637, 0.33013033866882324]\n"
          ]
        },
        {
          "output_type": "stream",
          "name": "stderr",
          "text": [
            "100%|██████████| 740/740 [00:31<00:00, 23.76it/s]\n"
          ]
        },
        {
          "output_type": "stream",
          "name": "stdout",
          "text": [
            "[0.11513811038756692, 0.11438998969120753, 0.11311856375856175, 0.11221243244772022, 0.1116900834582142, 0.11104603390637281, 0.110239308800649, 0.1095217409971598, 0.10970089596167609, 0.10895247100474867, 0.10836573149505499, 0.10792800211221786]\n",
            "[0.4277677536010742, 0.1441168487071991, 0.26868435740470886, 0.17745693027973175, 0.2689209580421448, 0.3807015120983124, 0.5119359493255615, 0.25219041109085083, 0.29334425926208496, 0.5418686270713806, 0.38678795099258423, 0.2793676555156708]\n",
            "[0.3077542781829834, 0.08532200008630753, 0.23096103966236115, 0.10559282451868057, 0.16935212910175323, 0.284656286239624, 0.38614875078201294, 0.1558752954006195, 0.1944887489080429, 0.38810229301452637, 0.33013033866882324, 0.17506623268127441]\n"
          ]
        },
        {
          "output_type": "stream",
          "name": "stderr",
          "text": [
            "100%|██████████| 740/740 [00:31<00:00, 23.70it/s]\n"
          ]
        },
        {
          "output_type": "stream",
          "name": "stdout",
          "text": [
            "[0.11513811038756692, 0.11438998969120753, 0.11311856375856175, 0.11221243244772022, 0.1116900834582142, 0.11104603390637281, 0.110239308800649, 0.1095217409971598, 0.10970089596167609, 0.10895247100474867, 0.10836573149505499, 0.10792800211221786, 0.10779764945241245]\n",
            "[0.4277677536010742, 0.1441168487071991, 0.26868435740470886, 0.17745693027973175, 0.2689209580421448, 0.3807015120983124, 0.5119359493255615, 0.25219041109085083, 0.29334425926208496, 0.5418686270713806, 0.38678795099258423, 0.2793676555156708, 0.48685985803604126]\n",
            "[0.3077542781829834, 0.08532200008630753, 0.23096103966236115, 0.10559282451868057, 0.16935212910175323, 0.284656286239624, 0.38614875078201294, 0.1558752954006195, 0.1944887489080429, 0.38810229301452637, 0.33013033866882324, 0.17506623268127441, 0.3809002637863159]\n"
          ]
        },
        {
          "output_type": "stream",
          "name": "stderr",
          "text": [
            "100%|██████████| 740/740 [00:31<00:00, 23.41it/s]\n"
          ]
        },
        {
          "output_type": "stream",
          "name": "stdout",
          "text": [
            "[0.11513811038756692, 0.11438998969120753, 0.11311856375856175, 0.11221243244772022, 0.1116900834582142, 0.11104603390637281, 0.110239308800649, 0.1095217409971598, 0.10970089596167609, 0.10895247100474867, 0.10836573149505499, 0.10792800211221786, 0.10779764945241245, 0.10721692477629798]\n",
            "[0.4277677536010742, 0.1441168487071991, 0.26868435740470886, 0.17745693027973175, 0.2689209580421448, 0.3807015120983124, 0.5119359493255615, 0.25219041109085083, 0.29334425926208496, 0.5418686270713806, 0.38678795099258423, 0.2793676555156708, 0.48685985803604126, 0.1778905838727951]\n",
            "[0.3077542781829834, 0.08532200008630753, 0.23096103966236115, 0.10559282451868057, 0.16935212910175323, 0.284656286239624, 0.38614875078201294, 0.1558752954006195, 0.1944887489080429, 0.38810229301452637, 0.33013033866882324, 0.17506623268127441, 0.3809002637863159, 0.10922356694936752]\n"
          ]
        },
        {
          "output_type": "stream",
          "name": "stderr",
          "text": [
            "100%|██████████| 740/740 [00:31<00:00, 23.70it/s]\n"
          ]
        },
        {
          "output_type": "stream",
          "name": "stdout",
          "text": [
            "[0.11513811038756692, 0.11438998969120753, 0.11311856375856175, 0.11221243244772022, 0.1116900834582142, 0.11104603390637281, 0.110239308800649, 0.1095217409971598, 0.10970089596167609, 0.10895247100474867, 0.10836573149505499, 0.10792800211221786, 0.10779764945241245, 0.10721692477629798, 0.10701039815573274]\n",
            "[0.4277677536010742, 0.1441168487071991, 0.26868435740470886, 0.17745693027973175, 0.2689209580421448, 0.3807015120983124, 0.5119359493255615, 0.25219041109085083, 0.29334425926208496, 0.5418686270713806, 0.38678795099258423, 0.2793676555156708, 0.48685985803604126, 0.1778905838727951, 0.39049243927001953]\n",
            "[0.3077542781829834, 0.08532200008630753, 0.23096103966236115, 0.10559282451868057, 0.16935212910175323, 0.284656286239624, 0.38614875078201294, 0.1558752954006195, 0.1944887489080429, 0.38810229301452637, 0.33013033866882324, 0.17506623268127441, 0.3809002637863159, 0.10922356694936752, 0.3391593396663666]\n"
          ]
        },
        {
          "output_type": "stream",
          "name": "stderr",
          "text": [
            "100%|██████████| 740/740 [00:31<00:00, 23.86it/s]\n"
          ]
        },
        {
          "output_type": "stream",
          "name": "stdout",
          "text": [
            "[0.11513811038756692, 0.11438998969120753, 0.11311856375856175, 0.11221243244772022, 0.1116900834582142, 0.11104603390637281, 0.110239308800649, 0.1095217409971598, 0.10970089596167609, 0.10895247100474867, 0.10836573149505499, 0.10792800211221786, 0.10779764945241245, 0.10721692477629798, 0.10701039815573274, 0.1069595017143198]\n",
            "[0.4277677536010742, 0.1441168487071991, 0.26868435740470886, 0.17745693027973175, 0.2689209580421448, 0.3807015120983124, 0.5119359493255615, 0.25219041109085083, 0.29334425926208496, 0.5418686270713806, 0.38678795099258423, 0.2793676555156708, 0.48685985803604126, 0.1778905838727951, 0.39049243927001953, 0.3335009515285492]\n",
            "[0.3077542781829834, 0.08532200008630753, 0.23096103966236115, 0.10559282451868057, 0.16935212910175323, 0.284656286239624, 0.38614875078201294, 0.1558752954006195, 0.1944887489080429, 0.38810229301452637, 0.33013033866882324, 0.17506623268127441, 0.3809002637863159, 0.10922356694936752, 0.3391593396663666, 0.23324699699878693]\n"
          ]
        },
        {
          "output_type": "stream",
          "name": "stderr",
          "text": [
            "100%|██████████| 740/740 [00:31<00:00, 23.72it/s]\n"
          ]
        },
        {
          "output_type": "stream",
          "name": "stdout",
          "text": [
            "[0.11513811038756692, 0.11438998969120753, 0.11311856375856175, 0.11221243244772022, 0.1116900834582142, 0.11104603390637281, 0.110239308800649, 0.1095217409971598, 0.10970089596167609, 0.10895247100474867, 0.10836573149505499, 0.10792800211221786, 0.10779764945241245, 0.10721692477629798, 0.10701039815573274, 0.1069595017143198, 0.10615760993615196]\n",
            "[0.4277677536010742, 0.1441168487071991, 0.26868435740470886, 0.17745693027973175, 0.2689209580421448, 0.3807015120983124, 0.5119359493255615, 0.25219041109085083, 0.29334425926208496, 0.5418686270713806, 0.38678795099258423, 0.2793676555156708, 0.48685985803604126, 0.1778905838727951, 0.39049243927001953, 0.3335009515285492, 0.49013957381248474]\n",
            "[0.3077542781829834, 0.08532200008630753, 0.23096103966236115, 0.10559282451868057, 0.16935212910175323, 0.284656286239624, 0.38614875078201294, 0.1558752954006195, 0.1944887489080429, 0.38810229301452637, 0.33013033866882324, 0.17506623268127441, 0.3809002637863159, 0.10922356694936752, 0.3391593396663666, 0.23324699699878693, 0.4058630168437958]\n"
          ]
        },
        {
          "output_type": "stream",
          "name": "stderr",
          "text": [
            "100%|██████████| 740/740 [00:31<00:00, 23.70it/s]\n"
          ]
        },
        {
          "output_type": "stream",
          "name": "stdout",
          "text": [
            "[0.11513811038756692, 0.11438998969120753, 0.11311856375856175, 0.11221243244772022, 0.1116900834582142, 0.11104603390637281, 0.110239308800649, 0.1095217409971598, 0.10970089596167609, 0.10895247100474867, 0.10836573149505499, 0.10792800211221786, 0.10779764945241245, 0.10721692477629798, 0.10701039815573274, 0.1069595017143198, 0.10615760993615196, 0.1059162141604198]\n",
            "[0.4277677536010742, 0.1441168487071991, 0.26868435740470886, 0.17745693027973175, 0.2689209580421448, 0.3807015120983124, 0.5119359493255615, 0.25219041109085083, 0.29334425926208496, 0.5418686270713806, 0.38678795099258423, 0.2793676555156708, 0.48685985803604126, 0.1778905838727951, 0.39049243927001953, 0.3335009515285492, 0.49013957381248474, 0.45315858721733093]\n",
            "[0.3077542781829834, 0.08532200008630753, 0.23096103966236115, 0.10559282451868057, 0.16935212910175323, 0.284656286239624, 0.38614875078201294, 0.1558752954006195, 0.1944887489080429, 0.38810229301452637, 0.33013033866882324, 0.17506623268127441, 0.3809002637863159, 0.10922356694936752, 0.3391593396663666, 0.23324699699878693, 0.4058630168437958, 0.3668939173221588]\n"
          ]
        },
        {
          "output_type": "stream",
          "name": "stderr",
          "text": [
            "100%|██████████| 740/740 [00:31<00:00, 23.73it/s]\n"
          ]
        },
        {
          "output_type": "stream",
          "name": "stdout",
          "text": [
            "[0.11513811038756692, 0.11438998969120753, 0.11311856375856175, 0.11221243244772022, 0.1116900834582142, 0.11104603390637281, 0.110239308800649, 0.1095217409971598, 0.10970089596167609, 0.10895247100474867, 0.10836573149505499, 0.10792800211221786, 0.10779764945241245, 0.10721692477629798, 0.10701039815573274, 0.1069595017143198, 0.10615760993615196, 0.1059162141604198, 0.10590642632262127]\n",
            "[0.4277677536010742, 0.1441168487071991, 0.26868435740470886, 0.17745693027973175, 0.2689209580421448, 0.3807015120983124, 0.5119359493255615, 0.25219041109085083, 0.29334425926208496, 0.5418686270713806, 0.38678795099258423, 0.2793676555156708, 0.48685985803604126, 0.1778905838727951, 0.39049243927001953, 0.3335009515285492, 0.49013957381248474, 0.45315858721733093, 0.33076247572898865]\n",
            "[0.3077542781829834, 0.08532200008630753, 0.23096103966236115, 0.10559282451868057, 0.16935212910175323, 0.284656286239624, 0.38614875078201294, 0.1558752954006195, 0.1944887489080429, 0.38810229301452637, 0.33013033866882324, 0.17506623268127441, 0.3809002637863159, 0.10922356694936752, 0.3391593396663666, 0.23324699699878693, 0.4058630168437958, 0.3668939173221588, 0.2073862999677658]\n"
          ]
        },
        {
          "output_type": "stream",
          "name": "stderr",
          "text": [
            "100%|██████████| 740/740 [00:31<00:00, 23.80it/s]\n"
          ]
        },
        {
          "output_type": "stream",
          "name": "stdout",
          "text": [
            "[0.11513811038756692, 0.11438998969120753, 0.11311856375856175, 0.11221243244772022, 0.1116900834582142, 0.11104603390637281, 0.110239308800649, 0.1095217409971598, 0.10970089596167609, 0.10895247100474867, 0.10836573149505499, 0.10792800211221786, 0.10779764945241245, 0.10721692477629798, 0.10701039815573274, 0.1069595017143198, 0.10615760993615196, 0.1059162141604198, 0.10590642632262127, 0.10504531723421973]\n",
            "[0.4277677536010742, 0.1441168487071991, 0.26868435740470886, 0.17745693027973175, 0.2689209580421448, 0.3807015120983124, 0.5119359493255615, 0.25219041109085083, 0.29334425926208496, 0.5418686270713806, 0.38678795099258423, 0.2793676555156708, 0.48685985803604126, 0.1778905838727951, 0.39049243927001953, 0.3335009515285492, 0.49013957381248474, 0.45315858721733093, 0.33076247572898865, 0.11167281121015549]\n",
            "[0.3077542781829834, 0.08532200008630753, 0.23096103966236115, 0.10559282451868057, 0.16935212910175323, 0.284656286239624, 0.38614875078201294, 0.1558752954006195, 0.1944887489080429, 0.38810229301452637, 0.33013033866882324, 0.17506623268127441, 0.3809002637863159, 0.10922356694936752, 0.3391593396663666, 0.23324699699878693, 0.4058630168437958, 0.3668939173221588, 0.2073862999677658, 0.06119988486170769]\n"
          ]
        },
        {
          "output_type": "stream",
          "name": "stderr",
          "text": [
            "100%|██████████| 740/740 [00:30<00:00, 23.98it/s]\n"
          ]
        },
        {
          "output_type": "stream",
          "name": "stdout",
          "text": [
            "[0.11513811038756692, 0.11438998969120753, 0.11311856375856175, 0.11221243244772022, 0.1116900834582142, 0.11104603390637281, 0.110239308800649, 0.1095217409971598, 0.10970089596167609, 0.10895247100474867, 0.10836573149505499, 0.10792800211221786, 0.10779764945241245, 0.10721692477629798, 0.10701039815573274, 0.1069595017143198, 0.10615760993615196, 0.1059162141604198, 0.10590642632262127, 0.10504531723421973, 0.10511313035983491]\n",
            "[0.4277677536010742, 0.1441168487071991, 0.26868435740470886, 0.17745693027973175, 0.2689209580421448, 0.3807015120983124, 0.5119359493255615, 0.25219041109085083, 0.29334425926208496, 0.5418686270713806, 0.38678795099258423, 0.2793676555156708, 0.48685985803604126, 0.1778905838727951, 0.39049243927001953, 0.3335009515285492, 0.49013957381248474, 0.45315858721733093, 0.33076247572898865, 0.11167281121015549, 0.45321837067604065]\n",
            "[0.3077542781829834, 0.08532200008630753, 0.23096103966236115, 0.10559282451868057, 0.16935212910175323, 0.284656286239624, 0.38614875078201294, 0.1558752954006195, 0.1944887489080429, 0.38810229301452637, 0.33013033866882324, 0.17506623268127441, 0.3809002637863159, 0.10922356694936752, 0.3391593396663666, 0.23324699699878693, 0.4058630168437958, 0.3668939173221588, 0.2073862999677658, 0.06119988486170769, 0.31815752387046814]\n"
          ]
        },
        {
          "output_type": "stream",
          "name": "stderr",
          "text": [
            "100%|██████████| 740/740 [00:31<00:00, 23.58it/s]\n"
          ]
        },
        {
          "output_type": "stream",
          "name": "stdout",
          "text": [
            "[0.11513811038756692, 0.11438998969120753, 0.11311856375856175, 0.11221243244772022, 0.1116900834582142, 0.11104603390637281, 0.110239308800649, 0.1095217409971598, 0.10970089596167609, 0.10895247100474867, 0.10836573149505499, 0.10792800211221786, 0.10779764945241245, 0.10721692477629798, 0.10701039815573274, 0.1069595017143198, 0.10615760993615196, 0.1059162141604198, 0.10590642632262127, 0.10504531723421973, 0.10511313035983491, 0.10476981249914781]\n",
            "[0.4277677536010742, 0.1441168487071991, 0.26868435740470886, 0.17745693027973175, 0.2689209580421448, 0.3807015120983124, 0.5119359493255615, 0.25219041109085083, 0.29334425926208496, 0.5418686270713806, 0.38678795099258423, 0.2793676555156708, 0.48685985803604126, 0.1778905838727951, 0.39049243927001953, 0.3335009515285492, 0.49013957381248474, 0.45315858721733093, 0.33076247572898865, 0.11167281121015549, 0.45321837067604065, 0.2841225266456604]\n",
            "[0.3077542781829834, 0.08532200008630753, 0.23096103966236115, 0.10559282451868057, 0.16935212910175323, 0.284656286239624, 0.38614875078201294, 0.1558752954006195, 0.1944887489080429, 0.38810229301452637, 0.33013033866882324, 0.17506623268127441, 0.3809002637863159, 0.10922356694936752, 0.3391593396663666, 0.23324699699878693, 0.4058630168437958, 0.3668939173221588, 0.2073862999677658, 0.06119988486170769, 0.31815752387046814, 0.18580973148345947]\n"
          ]
        },
        {
          "output_type": "stream",
          "name": "stderr",
          "text": [
            "100%|██████████| 740/740 [00:31<00:00, 23.69it/s]\n"
          ]
        },
        {
          "output_type": "stream",
          "name": "stdout",
          "text": [
            "[0.11513811038756692, 0.11438998969120753, 0.11311856375856175, 0.11221243244772022, 0.1116900834582142, 0.11104603390637281, 0.110239308800649, 0.1095217409971598, 0.10970089596167609, 0.10895247100474867, 0.10836573149505499, 0.10792800211221786, 0.10779764945241245, 0.10721692477629798, 0.10701039815573274, 0.1069595017143198, 0.10615760993615196, 0.1059162141604198, 0.10590642632262127, 0.10504531723421973, 0.10511313035983491, 0.10476981249914781, 0.10468979086223486]\n",
            "[0.4277677536010742, 0.1441168487071991, 0.26868435740470886, 0.17745693027973175, 0.2689209580421448, 0.3807015120983124, 0.5119359493255615, 0.25219041109085083, 0.29334425926208496, 0.5418686270713806, 0.38678795099258423, 0.2793676555156708, 0.48685985803604126, 0.1778905838727951, 0.39049243927001953, 0.3335009515285492, 0.49013957381248474, 0.45315858721733093, 0.33076247572898865, 0.11167281121015549, 0.45321837067604065, 0.2841225266456604, 0.21784530580043793]\n",
            "[0.3077542781829834, 0.08532200008630753, 0.23096103966236115, 0.10559282451868057, 0.16935212910175323, 0.284656286239624, 0.38614875078201294, 0.1558752954006195, 0.1944887489080429, 0.38810229301452637, 0.33013033866882324, 0.17506623268127441, 0.3809002637863159, 0.10922356694936752, 0.3391593396663666, 0.23324699699878693, 0.4058630168437958, 0.3668939173221588, 0.2073862999677658, 0.06119988486170769, 0.31815752387046814, 0.18580973148345947, 0.156711146235466]\n"
          ]
        },
        {
          "output_type": "stream",
          "name": "stderr",
          "text": [
            "100%|██████████| 740/740 [00:31<00:00, 23.75it/s]\n"
          ]
        },
        {
          "output_type": "stream",
          "name": "stdout",
          "text": [
            "[0.11513811038756692, 0.11438998969120753, 0.11311856375856175, 0.11221243244772022, 0.1116900834582142, 0.11104603390637281, 0.110239308800649, 0.1095217409971598, 0.10970089596167609, 0.10895247100474867, 0.10836573149505499, 0.10792800211221786, 0.10779764945241245, 0.10721692477629798, 0.10701039815573274, 0.1069595017143198, 0.10615760993615196, 0.1059162141604198, 0.10590642632262127, 0.10504531723421973, 0.10511313035983491, 0.10476981249914781, 0.10468979086223486, 0.10427065377903952]\n",
            "[0.4277677536010742, 0.1441168487071991, 0.26868435740470886, 0.17745693027973175, 0.2689209580421448, 0.3807015120983124, 0.5119359493255615, 0.25219041109085083, 0.29334425926208496, 0.5418686270713806, 0.38678795099258423, 0.2793676555156708, 0.48685985803604126, 0.1778905838727951, 0.39049243927001953, 0.3335009515285492, 0.49013957381248474, 0.45315858721733093, 0.33076247572898865, 0.11167281121015549, 0.45321837067604065, 0.2841225266456604, 0.21784530580043793, 0.37068042159080505]\n",
            "[0.3077542781829834, 0.08532200008630753, 0.23096103966236115, 0.10559282451868057, 0.16935212910175323, 0.284656286239624, 0.38614875078201294, 0.1558752954006195, 0.1944887489080429, 0.38810229301452637, 0.33013033866882324, 0.17506623268127441, 0.3809002637863159, 0.10922356694936752, 0.3391593396663666, 0.23324699699878693, 0.4058630168437958, 0.3668939173221588, 0.2073862999677658, 0.06119988486170769, 0.31815752387046814, 0.18580973148345947, 0.156711146235466, 0.33249640464782715]\n"
          ]
        },
        {
          "output_type": "stream",
          "name": "stderr",
          "text": [
            "100%|██████████| 740/740 [00:31<00:00, 23.31it/s]"
          ]
        },
        {
          "output_type": "stream",
          "name": "stdout",
          "text": [
            "[0.11513811038756692, 0.11438998969120753, 0.11311856375856175, 0.11221243244772022, 0.1116900834582142, 0.11104603390637281, 0.110239308800649, 0.1095217409971598, 0.10970089596167609, 0.10895247100474867, 0.10836573149505499, 0.10792800211221786, 0.10779764945241245, 0.10721692477629798, 0.10701039815573274, 0.1069595017143198, 0.10615760993615196, 0.1059162141604198, 0.10590642632262127, 0.10504531723421973, 0.10511313035983491, 0.10476981249914781, 0.10468979086223486, 0.10427065377903952, 0.10381895274527975]\n",
            "[0.4277677536010742, 0.1441168487071991, 0.26868435740470886, 0.17745693027973175, 0.2689209580421448, 0.3807015120983124, 0.5119359493255615, 0.25219041109085083, 0.29334425926208496, 0.5418686270713806, 0.38678795099258423, 0.2793676555156708, 0.48685985803604126, 0.1778905838727951, 0.39049243927001953, 0.3335009515285492, 0.49013957381248474, 0.45315858721733093, 0.33076247572898865, 0.11167281121015549, 0.45321837067604065, 0.2841225266456604, 0.21784530580043793, 0.37068042159080505, 0.34481897950172424]\n",
            "[0.3077542781829834, 0.08532200008630753, 0.23096103966236115, 0.10559282451868057, 0.16935212910175323, 0.284656286239624, 0.38614875078201294, 0.1558752954006195, 0.1944887489080429, 0.38810229301452637, 0.33013033866882324, 0.17506623268127441, 0.3809002637863159, 0.10922356694936752, 0.3391593396663666, 0.23324699699878693, 0.4058630168437958, 0.3668939173221588, 0.2073862999677658, 0.06119988486170769, 0.31815752387046814, 0.18580973148345947, 0.156711146235466, 0.33249640464782715, 0.23930738866329193]\n"
          ]
        },
        {
          "output_type": "stream",
          "name": "stderr",
          "text": [
            "\n"
          ]
        }
      ]
    },
    {
      "cell_type": "code",
      "source": [
        "import matplotlib.pyplot as plt\n",
        "\n",
        "# Plotting training and validation loss\n",
        "plt.figure(figsize=(15,5))\n",
        "plt.subplot(1, 3, 1)\n",
        "plt.plot(train_losses, label='Train Loss')\n",
        "#plt.plot(val_losses, label='Validation Loss')\n",
        "plt.title('Loss over epochs')\n",
        "plt.xlabel('Epoch')\n",
        "plt.ylabel('Loss')\n",
        "plt.legend()\n",
        "plt.tight_layout()\n",
        "plt.show()"
      ],
      "metadata": {
        "id": "D6RgMNiD1t9V",
        "colab": {
          "base_uri": "https://localhost:8080/",
          "height": 507
        },
        "outputId": "5240df65-5db0-4cad-8af9-4eed3d4105e3"
      },
      "execution_count": null,
      "outputs": [
        {
          "output_type": "display_data",
          "data": {
            "text/plain": [
              "<Figure size 1500x500 with 1 Axes>"
            ],
            "image/png": "[encoded data removed]"
          },
          "metadata": {}
        }
      ]
    },
    {
      "cell_type": "code",
      "source": [
        "# Plotting Dice score\n",
        "plt.figure(figsize=(15,5))\n",
        "plt.subplot(1, 3, 2)\n",
        "plt.plot(train_dice_scores, label='Train Dice Score')\n",
        "#plt.plot(val_dice_scores, label='Validation Dice Score')\n",
        "plt.title('Dice Score over epochs')\n",
        "plt.xlabel('Epoch')\n",
        "plt.ylabel('Dice Score')\n",
        "plt.legend()\n",
        "plt.tight_layout()\n",
        "plt.show()\n"
      ],
      "metadata": {
        "id": "yNLUL7xM1xNq",
        "colab": {
          "base_uri": "https://localhost:8080/",
          "height": 507
        },
        "outputId": "6524cb03-d0d6-44d1-852a-1055d0c79122"
      },
      "execution_count": null,
      "outputs": [
        {
          "output_type": "display_data",
          "data": {
            "text/plain": [
              "<Figure size 1500x500 with 1 Axes>"
            ],
            "image/png": "[encoded data removed]"
          },
          "metadata": {}
        }
      ]
    },
    {
      "cell_type": "code",
      "source": [
        "# Plotting IoU score\n",
        "plt.figure(figsize=(15,5))\n",
        "plt.subplot(1, 3, 3)\n",
        "plt.plot(train_iou_scores, label='Train IoU Score')\n",
        "# plt.plot(val_iou_scores, label='Validation IoU Score')\n",
        "plt.title('IoU Score over epochs')\n",
        "plt.xlabel('Epoch')\n",
        "plt.ylabel('IoU Score')\n",
        "plt.legend()\n",
        "plt.tight_layout()\n",
        "plt.show()"
      ],
      "metadata": {
        "id": "Uv0nOwzL117e",
        "colab": {
          "base_uri": "https://localhost:8080/",
          "height": 507
        },
        "outputId": "53f6ac73-6eae-4925-d846-9b4d7d6f9cc9"
      },
      "execution_count": null,
      "outputs": [
        {
          "output_type": "display_data",
          "data": {
            "text/plain": [
              "<Figure size 1500x500 with 1 Axes>"
            ],
            "image/png": "[encoded data removed]"
          },
          "metadata": {}
        }
      ]
    },
    {
      "cell_type": "code",
      "source": [
        "# Set the model to evaluation mode\n",
        "model.eval()\n",
        "\n",
        "# Fetch a batch of data from the test_loader\n",
        "test_images, test_masks = next(iter(test_loader))\n",
        "\n",
        "# Move the test images and masks to the configured device\n",
        "test_images = test_images.to(device)\n",
        "test_masks = test_masks.to(device)\n",
        "\n",
        "# Perform inference without calculating gradients\n",
        "with torch.no_grad():\n",
        "    predictions = model(test_images)\n",
        "print(len(predictions.logits))\n",
        "print(len(test_images))\n",
        "print(len(predictions))\n",
        "# Visualize the first few samples from the batch\n",
        "num_samples = 5  # Adjust this number based on how many samples you want to visualize\n",
        "fig, axs = plt.subplots(num_samples, 2, figsize=(10, 5 * num_samples))  # Adjust subplot grid for 2 columns instead of 3\n",
        "for i in range(num_samples):\n",
        "    true_mask = test_masks[i].cpu().numpy().squeeze()\n",
        "    pred_mask = torch.sigmoid(predictions.logits[i]).cpu().numpy().squeeze() > 0.5  # Apply sigmoid and threshold\n",
        "    print(pred_mask.shape)\n",
        "\n",
        "    axs[i, 0].imshow(true_mask, cmap='gray')\n",
        "    axs[i, 0].set_title('True Mask')\n",
        "    axs[i, 0].axis('off')\n",
        "\n",
        "    pred_mask = pred_mask[0, :, :]\n",
        "    axs[i, 1].imshow(pred_mask, cmap='gray')\n",
        "    axs[i, 1].set_title('Predicted Mask')\n",
        "    axs[i, 1].axis('off')\n",
        "\n",
        "plt.tight_layout()\n",
        "plt.show()"
      ],
      "metadata": {
        "colab": {
          "base_uri": "https://localhost:8080/",
          "height": 1000
        },
        "id": "BR_q8DEe17Z1",
        "outputId": "d6d5a419-3996-48b0-9ec1-64e5d2d0c34a"
      },
      "execution_count": null,
      "outputs": [
        {
          "output_type": "stream",
          "name": "stdout",
          "text": [
            "16\n",
            "16\n",
            "1\n",
            "(2, 32, 32)\n",
            "(2, 32, 32)\n",
            "(2, 32, 32)\n",
            "(2, 32, 32)\n",
            "(2, 32, 32)\n"
          ]
        },
        {
          "output_type": "display_data",
          "data": {
            "text/plain": [
              "<Figure size 1000x2500 with 10 Axes>"
            ],
            "image/png": "[encoded data removed]"
          },
          "metadata": {}
        }
      ]
    }
  ]
}